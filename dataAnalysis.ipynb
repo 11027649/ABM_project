{
 "cells": [
  {
   "cell_type": "code",
   "execution_count": 25,
   "metadata": {},
   "outputs": [],
   "source": [
    "import os\n",
    "import numpy as np\n",
    "import pandas as pd\n",
    "import matplotlib.pyplot as plt\n",
    "directory = os.fsencode(\"data\")"
   ]
  },
  {
   "cell_type": "code",
   "execution_count": 26,
   "metadata": {},
   "outputs": [],
   "source": [
    "if directory:\n",
    "\n",
    "    for file in os.listdir(directory):\n",
    "        filename = os.fsdecode(file)\n",
    "        df = pd.read_csv(\"data/\" + filename, header=2)"
   ]
  },
  {
   "cell_type": "code",
   "execution_count": 28,
   "metadata": {},
   "outputs": [],
   "source": [
    "pedesTimes = []\n",
    "carsTimes = []\n",
    "for agent in range(len(df[\"agent_type\"])):\n",
    "    if df[\"agent_type\"][agent] == 'Pedestrian':\n",
    "        pedesTimes.append(df['time_spent'][agent])\n",
    "    else:\n",
    "        carsTimes.append(df['time_spent'][agent])"
   ]
  },
  {
   "cell_type": "code",
   "execution_count": 37,
   "metadata": {},
   "outputs": [
    {
     "data": {
      "image/png": "[encoded data removed]",
      "text/plain": [
       "<matplotlib.figure.Figure at 0x11153110>"
      ]
     },
     "metadata": {},
     "output_type": "display_data"
    },
    {
     "data": {
      "image/png": "[encoded data removed]",
      "text/plain": [
       "<matplotlib.figure.Figure at 0x111c4310>"
      ]
     },
     "metadata": {},
     "output_type": "display_data"
    }
   ],
   "source": [
    "plt.hist(pedesTimes, bins = 45)\n",
    "plt.show()\n",
    "plt.hist(carsTimes, bins = 30)\n",
    "plt.show()"
   ]
  },
  {
   "cell_type": "code",
   "execution_count": 38,
   "metadata": {},
   "outputs": [],
   "source": [
    "# ratio of unobserved data/total data\n",
    "def createBatchData(ratio, amount, data):\n",
    "    period = int(len(data) / amount)\n",
    "#     print(period)\n",
    "    intervalSize = int((ratio) * period)\n",
    "#     print(period, intervalSize)\n",
    "    dataBatchArray = []\n",
    "    currentIndex = 0\n",
    "    \n",
    "    # Benedict, is that you?\n",
    "    currentBatch = []\n",
    "\n",
    "    for sample in data:\n",
    "\n",
    "        if currentIndex >= intervalSize and currentIndex < period:\n",
    "#             print(sample)\n",
    "            currentBatch.append(sample)\n",
    "            currentIndex = currentIndex + 1\n",
    "            \n",
    "            if currentIndex >= period:\n",
    "                dataBatchArray.append((np.mean(currentBatch), np.std(currentBatch)))\n",
    "                currentBatch = []\n",
    "                currentIndex = 0\n",
    "        else:\n",
    "            currentIndex = currentIndex + 1\n",
    "            \n",
    "\n",
    "    return dataBatchArray\n",
    "\n",
    "def accCheck(data, sample_size):\n",
    "    \n",
    "    means = []\n",
    "    # calculate means for each batch -> then for each simulation\n",
    "    for i in data:\n",
    "        tempMeans = []\n",
    "        for j in i:\n",
    "            tempMeans.append(j[0])\n",
    "        means.append(tempMeans)\n",
    "\n",
    "    # total mean\n",
    "    stds = np.std(means)\n",
    "    means = np.mean(means)\n",
    "\n",
    "    Za = 1.96\n",
    "    # Get confidence bounds (mean +- z*S/sqrt(n))\n",
    "    confidence = [means-Za*(stds/sample_size**.5), means+Za*(stds/sample_size**.5)]\n",
    "\n",
    "    # Get accuracy (Z*sqrt(mean(1-mean)))/sqrt(n)\n",
    "    accuracy = (Za*stds) / (sample_size **.5 * means)\n",
    "    return accuracy, confidence "
   ]
  },
  {
   "cell_type": "code",
   "execution_count": 44,
   "metadata": {},
   "outputs": [
    {
     "ename": "IndexError",
     "evalue": "invalid index to scalar variable.",
     "output_type": "error",
     "traceback": [
      "\u001b[1;31m---------------------------------------------------------------------------\u001b[0m",
      "\u001b[1;31mIndexError\u001b[0m                                Traceback (most recent call last)",
      "\u001b[1;32m<ipython-input-44-503d01e0a96e>\u001b[0m in \u001b[0;36m<module>\u001b[1;34m()\u001b[0m\n\u001b[0;32m      1\u001b[0m \u001b[0mbatchMeans\u001b[0m \u001b[1;33m=\u001b[0m \u001b[0mcreateBatchData\u001b[0m\u001b[1;33m(\u001b[0m\u001b[1;36m0.3\u001b[0m\u001b[1;33m,\u001b[0m \u001b[1;36m30\u001b[0m\u001b[1;33m,\u001b[0m \u001b[0mcarsTimes\u001b[0m\u001b[1;33m)\u001b[0m\u001b[1;33m\u001b[0m\u001b[0m\n\u001b[1;32m----> 2\u001b[1;33m \u001b[0maccCheck\u001b[0m\u001b[1;33m(\u001b[0m\u001b[0mbatchMeans\u001b[0m\u001b[1;33m,\u001b[0m \u001b[1;36m750\u001b[0m\u001b[1;33m)\u001b[0m\u001b[1;33m\u001b[0m\u001b[0m\n\u001b[0m",
      "\u001b[1;32m<ipython-input-38-47de10e2e2ed>\u001b[0m in \u001b[0;36maccCheck\u001b[1;34m(data, sample_size)\u001b[0m\n\u001b[0;32m     35\u001b[0m         \u001b[0mtempMeans\u001b[0m \u001b[1;33m=\u001b[0m \u001b[1;33m[\u001b[0m\u001b[1;33m]\u001b[0m\u001b[1;33m\u001b[0m\u001b[0m\n\u001b[0;32m     36\u001b[0m         \u001b[1;32mfor\u001b[0m \u001b[0mj\u001b[0m \u001b[1;32min\u001b[0m \u001b[0mi\u001b[0m\u001b[1;33m:\u001b[0m\u001b[1;33m\u001b[0m\u001b[0m\n\u001b[1;32m---> 37\u001b[1;33m             \u001b[0mtempMeans\u001b[0m\u001b[1;33m.\u001b[0m\u001b[0mappend\u001b[0m\u001b[1;33m(\u001b[0m\u001b[0mj\u001b[0m\u001b[1;33m[\u001b[0m\u001b[1;36m0\u001b[0m\u001b[1;33m]\u001b[0m\u001b[1;33m)\u001b[0m\u001b[1;33m\u001b[0m\u001b[0m\n\u001b[0m\u001b[0;32m     38\u001b[0m         \u001b[0mmeans\u001b[0m\u001b[1;33m.\u001b[0m\u001b[0mappend\u001b[0m\u001b[1;33m(\u001b[0m\u001b[0mtempMeans\u001b[0m\u001b[1;33m)\u001b[0m\u001b[1;33m\u001b[0m\u001b[0m\n\u001b[0;32m     39\u001b[0m \u001b[1;33m\u001b[0m\u001b[0m\n",
      "\u001b[1;31mIndexError\u001b[0m: invalid index to scalar variable."
     ]
    }
   ],
   "source": [
    "batchMeans = createBatchData(0.3, 30, carsTimes)\n",
    "\n",
    "# we need to do more than 1 simulation right?\n",
    "accCheck(batchMeans, 750)"
   ]
  }
 ],
 "metadata": {
  "kernelspec": {
   "display_name": "Python 3",
   "language": "python",
   "name": "python3"
  },
  "language_info": {
   "codemirror_mode": {
    "name": "ipython",
    "version": 3
   },
   "file_extension": ".py",
   "mimetype": "text/x-python",
   "name": "python",
   "nbconvert_exporter": "python",
   "pygments_lexer": "ipython3",
   "version": "3.6.3"
  }
 },
 "nbformat": 4,
 "nbformat_minor": 2
}
