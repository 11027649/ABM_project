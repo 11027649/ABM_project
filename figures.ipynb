{
 "cells": [
  {
   "cell_type": "code",
   "execution_count": 18,
   "metadata": {
    "scrolled": false
   },
   "outputs": [],
   "source": [
    "import numpy as np\n",
    "import matplotlib.pyplot as plt\n",
    "import pandas as pd\n",
    "import seaborn as sns\n",
    "sns.set()\n",
    "\n",
    "import os\n",
    "\n",
    "directory = os.fsencode(\"data\")"
   ]
  },
  {
   "cell_type": "code",
   "execution_count": 19,
   "metadata": {
    "scrolled": false
   },
   "outputs": [],
   "source": [
    "if directory:\n",
    "\n",
    "    for file in os.listdir(directory):\n",
    "        filename = os.fsdecode(file)\n",
    "\n",
    "        if filename.startswith(\"hist\"):\n",
    "            df = pd.read_csv(\"data/\" + filename, header=2)\n",
    "            \n",
    "            plt.title('')\n",
    "            plt.hist(df['time_spent'], alpha=0.5)\n",
    "            plt.show()"
   ]
  },
  {
   "cell_type": "code",
   "execution_count": 20,
   "metadata": {},
   "outputs": [],
   "source": [
    "if directory:\n",
    "\n",
    "    for file in os.listdir(directory):\n",
    "        filename = os.fsdecode(file)\n",
    "\n",
    "        if filename.startswith(\"info\"):\n",
    "            df = pd.read_csv(\"data/\" + filename, header=2)\n",
    "            \n",
    "            \n",
    "            plt.figure(figsize=(10,10))\n",
    "            plt.title(\"Very pretty seaborn graph with the amount of nerds/monkeys/whatever\")\n",
    "            plt.ylabel(\"Agent count\")\n",
    "            plt.xlabel(\"Time in simulation\")\n",
    "            plt.plot(df['time_step'], df['car_count'], label=\"Amount of cars\")\n",
    "            plt.plot(df['time_step'], df['pedestrian_count'], label=\"Amount of pedestrians\")\n",
    "            plt.legend()\n",
    "            plt.show()"
   ]
  },
  {
   "cell_type": "code",
   "execution_count": null,
   "metadata": {},
   "outputs": [],
   "source": []
  }
 ],
 "metadata": {
  "kernelspec": {
   "display_name": "Python 3",
   "language": "python",
   "name": "python3"
  },
  "language_info": {
   "codemirror_mode": {
    "name": "ipython",
    "version": 3
   },
   "file_extension": ".py",
   "mimetype": "text/x-python",
   "name": "python",
   "nbconvert_exporter": "python",
   "pygments_lexer": "ipython3",
   "version": "3.6.3"
  }
 },
 "nbformat": 4,
 "nbformat_minor": 2
}
