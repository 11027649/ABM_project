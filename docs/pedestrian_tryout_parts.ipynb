{
 "cells": [
  {
   "cell_type": "code",
   "execution_count": 2,
   "metadata": {},
   "outputs": [
    {
     "ename": "SyntaxError",
     "evalue": "invalid syntax (<ipython-input-2-6518a8d5ed17>, line 29)",
     "output_type": "error",
     "traceback": [
      "\u001b[1;36m  File \u001b[1;32m\"<ipython-input-2-6518a8d5ed17>\"\u001b[1;36m, line \u001b[1;32m29\u001b[0m\n\u001b[1;33m    return Pk = distance_to_obj/R_vision_range\u001b[0m\n\u001b[1;37m              ^\u001b[0m\n\u001b[1;31mSyntaxError\u001b[0m\u001b[1;31m:\u001b[0m invalid syntax\n"
     ]
    }
   ],
   "source": [
    "#Gamma and density parameters set as given in this Liu 2014\n",
    "def desired_speed(self, gamma=1.913, max_density=5.4, density_in_view_range):\n",
    "    #Parameters: Normal speed, \n",
    "    return speed*(1 - np.exp(-gamma((1/density_in_view_range)-(1/max_density))))\n",
    "\n",
    "def new_pos(self, pos, desired_velocity, theta_chosen):\n",
    "    new_pos = (desired_veloctiy(agent)*np.cos(theta_chosen), desired_velocity*np.sin(theta_chosen))\n",
    "    move_agent(agent, new_pos)\n",
    "\n",
    "    \n",
    "#Calculating Utility parameters \n",
    "\n",
    "#Efficiency of target approach\n",
    "def Ek(self, direction):\n",
    "    #Distance of proposed new position to target\n",
    "    proposed_dist = \"\"\"max dist in this direction, considering objects and desired speed\"\"\"\n",
    "    Ek = 1 - (proposed_dist - vision - speed*dt)/2*(speed*dt)\n",
    "    return Ek\n",
    "\n",
    "#Interaction between pedestrians and obstacles    \n",
    "def Ok(self, dist_nearest_object, vision_length):\n",
    "    #nearest object: min of jordans cone search list?\n",
    "    Ok = distance_to_obj/R_vision_range\n",
    "    return Ok\n",
    "\n",
    "\n",
    "#Keep distance from other pedestrians    \n",
    "def Pk(self, d_nearest_pedestrian, vision_length):\n",
    "    return Pk = distance_to_obj/R_vision_range\n",
    "\n",
    "#Avoid future collisions with other pedestrians\n",
    "def Ak(self, proposed_direction, nearest_agent_vector):\n",
    "    #Movement vector of nearest agent\n",
    "    rel_angle_agents = get_heading(proposed_direction, nearest_agent_vector)\n",
    "    return Ak = 1 - abs()\n",
    "    \n",
    "    \n",
    "    1 - abs(rel_angle)/np.pi\n",
    "    \n",
    "#Inertia \n",
    "def Ik(self, proposed_direction, current_direction):\n",
    "    rel_angle_proposed_current = get_heading(proposed_direction, current_direction)\n",
    "    return Ik = abs(rel_angle_proposed_current)/(theta/2)\n",
    "    \n",
    "Ek = 1 - (Dk_target - self.R_vision_range - Rk_step)/(2*Rk_step)\n",
    "Ok = distance_to_obj/R_vision_range\n",
    "Pk = distance_to_ped/R_vision_range\n",
    "Ak = None\n",
    "Ik = None"
   ]
  },
  {
   "cell_type": "code",
   "execution_count": 18,
   "metadata": {},
   "outputs": [
    {
     "name": "stdout",
     "output_type": "stream",
     "text": [
      "8.272\n"
     ]
    },
    {
     "data": {
      "text/plain": [
       "0"
      ]
     },
     "execution_count": 18,
     "metadata": {},
     "output_type": "execute_result"
    }
   ],
   "source": [
    "import numpy as np\n",
    "speed_free = 1\n",
    "density_in_view_range = 220\n",
    "def desired_speed(density_in_view_range, gamma=1.913, max_density=5.4):\n",
    "    #Parameters: Normal speed, \n",
    "    return speed_free * (1 - np.exp(-gamma * ((1/density_in_view_range)-(1/max_density))))\n",
    "\n",
    "desired_speed(density_in_view_range, gamma=1.913, max_density=5.4)\n",
    "\n",
    "\n",
    "def desired_speed(n_agents_in_cone, gamma=1.913, max_density=5.4):\n",
    "    #Parameters: Normal speed\n",
    "    # cone_area_170 = 13.3517\n",
    "    # agent_area: pi*(0.4**2) = 0.5027\n",
    "    vision_angle = 170\n",
    "    if vision_angle == 170:\n",
    "        # dens = agent_area/cone_area\n",
    "        dens = 0.0376\n",
    "    else:\n",
    "        # TODO: remove hardcoding\n",
    "        raise ValueError('Code only works for 170 degrees vision range for now') \n",
    "    cone_density = n_agents_in_cone * dens\n",
    "    print(cone_density)\n",
    "    des_speed = speed_free*(1 - np.exp(-gamma*((1/cone_density)-(1/max_density))))\n",
    "    # Check if speed is not negative?\n",
    "    if des_speed >= 0:\n",
    "        return des_speed\n",
    "    else:\n",
    "        # TODO: set a default speed?\n",
    "        return 0\n",
    "\n",
    "desired_speed(density_in_view_range, gamma=1.913, max_density=5.4)\n"
   ]
  },
  {
   "cell_type": "code",
   "execution_count": null,
   "metadata": {},
   "outputs": [],
   "source": [
    "import numpy as np\n",
    "\n",
    "#180 degrees\n",
    "cone_area = (np.pi*(3**2))/2\n",
    "\n",
    "#170 degrees\n",
    "cone_area_170 = cone_area - (1/18)*cone_area\n",
    "\n",
    "print(cone_area, cone_area_170)\n",
    "\n",
    "#agent area\n",
    "agent_area = np.pi*(0.4**2)\n",
    "\n",
    "print(agent_area/cone_area)\n",
    "\n",
    "cone_density = num_agents_in_cone*agent_area/cone_area\n",
    "\n",
    "\n",
    "\n",
    "def desired_speed(self, gamma=1.913, max_density=5.4, cone_density):\n",
    "    #Parameters: Normal speed\n",
    "    #cone_area_180 = 14.1371\n",
    "    #cone_area_170 = 13.3517\n",
    "    #agent_area: pi*(0.4**2) = 0.5027\n",
    "    if vision_angle == 170:\n",
    "        # dens = agent_area/cone_area\n",
    "        dens = agent_area/cone_area = 0.0376\n",
    "    cone_density = n_agents_in_cone * dens\n",
    "    return speed*(1 - np.exp(-gamma((1/cone_density)-(1/max_density))))"
   ]
  },
  {
   "cell_type": "code",
   "execution_count": 1,
   "metadata": {},
   "outputs": [
    {
     "ename": "SyntaxError",
     "evalue": "non-default argument follows default argument (<ipython-input-1-3ffda441bc41>, line 20)",
     "output_type": "error",
     "traceback": [
      "\u001b[1;36m  File \u001b[1;32m\"<ipython-input-1-3ffda441bc41>\"\u001b[1;36m, line \u001b[1;32m20\u001b[0m\n\u001b[1;33m    def desired_speed(self, gamma=1.913, max_density=5.4, cone_density):\u001b[0m\n\u001b[1;37m                     ^\u001b[0m\n\u001b[1;31mSyntaxError\u001b[0m\u001b[1;31m:\u001b[0m non-default argument follows default argument\n"
     ]
    }
   ],
   "source": [
    "import numpy as np\n",
    "\n",
    "#180 degrees\n",
    "cone_area = (np.pi*(3**2))/2\n",
    "\n",
    "#170 degrees\n",
    "cone_area_170 = cone_area - (1/18)*cone_area\n",
    "\n",
    "print(cone_area, cone_area_170)\n",
    "\n",
    "#agent area\n",
    "agent_area = np.pi*(0.4**2)\n",
    "\n",
    "print(agent_area/cone_area)\n",
    "\n",
    "cone_density = num_agents_in_cone*agent_area/cone_area\n",
    "\n",
    "\n",
    "\n",
    "def desired_speed(self, gamma=1.913, max_density=5.4, cone_density):\n",
    "    #Parameters: Normal speed\n",
    "    #cone_area_180 = 14.1371\n",
    "    #cone_area_170 = 13.3517\n",
    "    #agent_area: pi*(0.4**2) = 0.5027\n",
    "    #dens180 = agent_area/cone_area = 0.0356\n",
    "    #dens170 = agent_area/cone_area = 0.0356\n",
    "    cone_density = n_agents_in_cone * dens\n",
    "    return speed*(1 - np.exp(-gamma((1/cone_density)-(1/max_density))))"
   ]
  },
  {
   "cell_type": "code",
   "execution_count": 42,
   "metadata": {},
   "outputs": [
    {
     "name": "stdout",
     "output_type": "stream",
     "text": [
      "185.0 355.0\n"
     ]
    }
   ],
   "source": [
    "direction = 270\n",
    "vision_angle = 170\n",
    "# Calculate the lower angle and the upper angle\n",
    "lower_angle = direction - (vision_angle / 2)\n",
    "upper_angle = direction + (vision_angle / 2)\n",
    "print(lower_angle, upper_angle)"
   ]
  },
  {
   "cell_type": "code",
   "execution_count": 43,
   "metadata": {},
   "outputs": [
    {
     "data": {
      "text/plain": [
       "[185.0,\n",
       " 195.625,\n",
       " 206.25,\n",
       " 216.875,\n",
       " 227.5,\n",
       " 238.125,\n",
       " 248.75,\n",
       " 259.375,\n",
       " 270.0,\n",
       " 280.625,\n",
       " 291.25,\n",
       " 301.875,\n",
       " 312.5,\n",
       " 323.125,\n",
       " 333.75,\n",
       " 344.375,\n",
       " 355.0]"
      ]
     },
     "execution_count": 43,
     "metadata": {},
     "output_type": "execute_result"
    }
   ],
   "source": [
    "def possible_directions():\n",
    "    \"\"\"\n",
    "    TODO: STILL INCLUDES END BOUNDARIES OF VISION RANGE\n",
    "    \"\"\"\n",
    "    N = 16\n",
    "    theta_N = vision_angle/(N)\n",
    "    pos_directions = []\n",
    "    for i in range(N+1):\n",
    "        pos_directions.append(lower_angle+i*theta_N)\n",
    "\n",
    "    return pos_directions\n",
    "possible_directions()"
   ]
  },
  {
   "cell_type": "code",
   "execution_count": 75,
   "metadata": {},
   "outputs": [
    {
     "data": {
      "text/plain": [
       "(1.0000000000000002, 3.0)"
      ]
     },
     "execution_count": 75,
     "metadata": {},
     "output_type": "execute_result"
    }
   ],
   "source": [
    "def new_pos(pos, desired_velocity, theta_chosen):\n",
    "    \"\"\"\n",
    "    TODO: CHECK FUNCTION\"\"\"\n",
    "    new_pos = (pos[0] + desired_velocity*np.cos(math.radians(theta_chosen)), pos[1]+desired_velocity*np.sin(math.radians(theta_chosen)))\n",
    "#     move_agent(agent, new_pos)\n",
    "    return new_pos\n",
    "pos, desired_velocity, theta_chosen = (1,1), 2, 90\n",
    "new_pos(pos, desired_velocity, theta_chosen)"
   ]
  },
  {
   "cell_type": "code",
   "execution_count": 77,
   "metadata": {},
   "outputs": [
    {
     "data": {
      "text/plain": [
       "(1.0000000000000002, 3.0)"
      ]
     },
     "execution_count": 77,
     "metadata": {},
     "output_type": "execute_result"
    }
   ],
   "source": [
    "def new_pos(chosen_velocity, theta_chosen):\n",
    "    \"\"\"\n",
    "    TODO: CHECK FUNCTION IF SENDS CORRECT NEW POSITION\"\"\"\n",
    "    pos = (1,1)\n",
    "    new_pos = (pos[0] + chosen_velocity*np.cos(math.radians(theta_chosen)), pos[1]+chosen_velocity*np.sin(math.radians(theta_chosen)))\n",
    "    return new_pos\n",
    "new_pos(desired_velocity, theta_chosen)"
   ]
  },
  {
   "cell_type": "code",
   "execution_count": 79,
   "metadata": {},
   "outputs": [
    {
     "data": {
      "text/plain": [
       "1.75"
      ]
     },
     "execution_count": 79,
     "metadata": {},
     "output_type": "execute_result"
    }
   ],
   "source": [
    "#Efficiency of target approach\n",
    "def Ek(target_dist):\n",
    "    #Distance of proposed new position to target\n",
    "    R_vision_range = 3\n",
    "    speed_free = 2\n",
    "    return 1 - (target_dist - R_vision_range - speed_free)/(2*speed_free)\n",
    "Ek(2)"
   ]
  },
  {
   "cell_type": "code",
   "execution_count": null,
   "metadata": {},
   "outputs": [],
   "source": [
    "#Efficiency of target approach\n",
    "def Ek(self, target_dist):\n",
    "    #Distance of proposed new position to target\n",
    "    return 1 - (target_dist - self.R_vision_range - self.speed_free)/(2*self.speed_free)\n"
   ]
  },
  {
   "cell_type": "code",
   "execution_count": null,
   "metadata": {},
   "outputs": [],
   "source": [
    "#Interaction between pedestrians and obstacles    \n",
    "def Ok(self, dist_nearest_object, vision_length):\n",
    "    #nearest object: min of jordans cone search list?\n",
    "    Ok = distance_to_obj/R_vision_range\n",
    "    return Ok"
   ]
  },
  {
   "cell_type": "code",
   "execution_count": null,
   "metadata": {},
   "outputs": [],
   "source": [
    "#Keep distance from other pedestrians    \n",
    "def Pk(self, d_nearest_pedestrian, vision_length):\n",
    "    return Pk = distance_to_obj/R_vision_range\n"
   ]
  },
  {
   "cell_type": "code",
   "execution_count": null,
   "metadata": {},
   "outputs": [],
   "source": [
    "#Avoid future collisions with other pedestrians\n",
    "def Ak(self, proposed_direction, nearest_agent_vector):\n",
    "    #Movement vector of nearest agent\n",
    "    rel_angle_agents = get_heading(proposed_direction, nearest_agent_vector)\n",
    "    return Ak = 1 - abs()\n",
    "    \n",
    "    \n",
    "    1 - abs(rel_angle)/np.pi"
   ]
  }
 ],
 "metadata": {
  "kernelspec": {
   "display_name": "Python 3",
   "language": "python",
   "name": "python3"
  },
  "language_info": {
   "codemirror_mode": {
    "name": "ipython",
    "version": 3
   },
   "file_extension": ".py",
   "mimetype": "text/x-python",
   "name": "python",
   "nbconvert_exporter": "python",
   "pygments_lexer": "ipython3",
   "version": "3.6.5"
  }
 },
 "nbformat": 4,
 "nbformat_minor": 2
}
