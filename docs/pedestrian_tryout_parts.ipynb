{
 "cells": [
  {
   "cell_type": "code",
   "execution_count": 1,
   "metadata": {},
   "outputs": [
    {
     "ename": "SyntaxError",
     "evalue": "invalid syntax (<ipython-input-1-6518a8d5ed17>, line 29)",
     "output_type": "error",
     "traceback": [
      "\u001b[1;36m  File \u001b[1;32m\"<ipython-input-1-6518a8d5ed17>\"\u001b[1;36m, line \u001b[1;32m29\u001b[0m\n\u001b[1;33m    return Pk = distance_to_obj/R_vision_range\u001b[0m\n\u001b[1;37m              ^\u001b[0m\n\u001b[1;31mSyntaxError\u001b[0m\u001b[1;31m:\u001b[0m invalid syntax\n"
     ]
    }
   ],
   "source": [
    "#Gamma and density parameters set as given in this Liu 2014\n",
    "def desired_speed(self, gamma=1.913, max_density=5.4, density_in_view_range):\n",
    "    #Parameters: Normal speed, \n",
    "    return speed*(1 - np.exp(-gamma((1/density_in_view_range)-(1/max_density))))\n",
    "\n",
    "def new_pos(self, pos, desired_velocity, theta_chosen):\n",
    "    new_pos = (desired_veloctiy(agent)*np.cos(theta_chosen), desired_velocity*np.sin(theta_chosen))\n",
    "    move_agent(agent, new_pos)\n",
    "\n",
    "    \n",
    "#Calculating Utility parameters \n",
    "\n",
    "#Efficiency of target approach\n",
    "def Ek(self, direction):\n",
    "    #Distance of proposed new position to target\n",
    "    proposed_dist = \"\"\"max dist in this direction, considering objects and desired speed\"\"\"\n",
    "    Ek = 1 - (proposed_dist - vision - speed*dt)/2*(speed*dt)\n",
    "    return Ek\n",
    "\n",
    "#Interaction between pedestrians and obstacles    \n",
    "def Ok(self, dist_nearest_object, vision_length):\n",
    "    #nearest object: min of jordans cone search list?\n",
    "    Ok = distance_to_obj/R_vision_range\n",
    "    return Ok\n",
    "\n",
    "\n",
    "#Keep distance from other pedestrians    \n",
    "def Pk(self, d_nearest_pedestrian, vision_length):\n",
    "    return Pk = distance_to_obj/R_vision_range\n",
    "\n",
    "#Avoid future collisions with other pedestrians\n",
    "def Ak(self, proposed_direction, nearest_agent_vector):\n",
    "    #Movement vector of nearest agent\n",
    "    rel_angle_agents = get_heading(proposed_direction, nearest_agent_vector)\n",
    "    return Ak = 1 - abs()\n",
    "    \n",
    "    \n",
    "    1 - abs(rel_angle)/np.pi\n",
    "    \n",
    "#Inertia \n",
    "def Ik(self, proposed_direction, current_direction):\n",
    "    rel_angle_proposed_current = get_heading(proposed_direction, current_direction)\n",
    "    return Ik = abs(rel_angle_proposed_current)/(theta/2)\n",
    "    \n",
    "Ek = 1 - (Dk_target - self.R_vision_range - Rk_step)/(2*Rk_step)\n",
    "Ok = distance_to_obj/R_vision_range\n",
    "Pk = distance_to_ped/R_vision_range\n",
    "Ak = None\n",
    "Ik = None"
   ]
  },
  {
   "cell_type": "code",
   "execution_count": 2,
   "metadata": {},
   "outputs": [
    {
     "name": "stdout",
     "output_type": "stream",
     "text": [
      "8.272\n"
     ]
    },
    {
     "data": {
      "text/plain": [
       "0"
      ]
     },
     "execution_count": 2,
     "metadata": {},
     "output_type": "execute_result"
    }
   ],
   "source": [
    "import numpy as np\n",
    "speed_free = 1\n",
    "density_in_view_range = 220\n",
    "def desired_speed(density_in_view_range, gamma=1.913, max_density=5.4):\n",
    "    #Parameters: Normal speed, \n",
    "    return speed_free * (1 - np.exp(-gamma * ((1/density_in_view_range)-(1/max_density))))\n",
    "\n",
    "desired_speed(density_in_view_range, gamma=1.913, max_density=5.4)\n",
    "\n",
    "\n",
    "def desired_speed(n_agents_in_cone, gamma=1.913, max_density=5.4):\n",
    "    #Parameters: Normal speed\n",
    "    # cone_area_170 = 13.3517\n",
    "    # agent_area: pi*(0.4**2) = 0.5027\n",
    "    vision_angle = 170\n",
    "    if vision_angle == 170:\n",
    "        # dens = agent_area/cone_area\n",
    "        dens = 0.0376\n",
    "    else:\n",
    "        # TODO: remove hardcoding\n",
    "        raise ValueError('Code only works for 170 degrees vision range for now') \n",
    "    cone_density = n_agents_in_cone * dens\n",
    "    print(cone_density)\n",
    "    des_speed = speed_free*(1 - np.exp(-gamma*((1/cone_density)-(1/max_density))))\n",
    "    # Check if speed is not negative?\n",
    "    if des_speed >= 0:\n",
    "        return des_speed\n",
    "    else:\n",
    "        # TODO: set a default speed?\n",
    "        return 0\n",
    "\n",
    "desired_speed(density_in_view_range, gamma=1.913, max_density=5.4)\n"
   ]
  },
  {
   "cell_type": "code",
   "execution_count": 3,
   "metadata": {},
   "outputs": [
    {
     "ename": "SyntaxError",
     "evalue": "non-default argument follows default argument (<ipython-input-3-b1ae4ba752ef>, line 20)",
     "output_type": "error",
     "traceback": [
      "\u001b[1;36m  File \u001b[1;32m\"<ipython-input-3-b1ae4ba752ef>\"\u001b[1;36m, line \u001b[1;32m20\u001b[0m\n\u001b[1;33m    def desired_speed(self, gamma=1.913, max_density=5.4, cone_density):\u001b[0m\n\u001b[1;37m                     ^\u001b[0m\n\u001b[1;31mSyntaxError\u001b[0m\u001b[1;31m:\u001b[0m non-default argument follows default argument\n"
     ]
    }
   ],
   "source": [
    "import numpy as np\n",
    "\n",
    "#180 degrees\n",
    "cone_area = (np.pi*(3**2))/2\n",
    "\n",
    "#170 degrees\n",
    "cone_area_170 = cone_area - (1/18)*cone_area\n",
    "\n",
    "print(cone_area, cone_area_170)\n",
    "\n",
    "#agent area\n",
    "agent_area = np.pi*(0.4**2)\n",
    "\n",
    "print(agent_area/cone_area)\n",
    "\n",
    "cone_density = num_agents_in_cone*agent_area/cone_area\n",
    "\n",
    "\n",
    "\n",
    "def desired_speed(self, gamma=1.913, max_density=5.4, cone_density):\n",
    "    #Parameters: Normal speed\n",
    "    #cone_area_180 = 14.1371\n",
    "    #cone_area_170 = 13.3517\n",
    "    #agent_area: pi*(0.4**2) = 0.5027\n",
    "    if vision_angle == 170:\n",
    "        # dens = agent_area/cone_area\n",
    "        dens = agent_area/cone_area = 0.0376\n",
    "    cone_density = n_agents_in_cone * dens\n",
    "    return speed*(1 - np.exp(-gamma((1/cone_density)-(1/max_density))))"
   ]
  },
  {
   "cell_type": "code",
   "execution_count": null,
   "metadata": {},
   "outputs": [],
   "source": [
    "import numpy as np\n",
    "\n",
    "#180 degrees\n",
    "cone_area = (np.pi*(3**2))/2\n",
    "\n",
    "#170 degrees\n",
    "cone_area_170 = cone_area - (1/18)*cone_area\n",
    "\n",
    "print(cone_area, cone_area_170)\n",
    "\n",
    "#agent area\n",
    "agent_area = np.pi*(0.4**2)\n",
    "\n",
    "print(agent_area/cone_area)\n",
    "\n",
    "cone_density = num_agents_in_cone*agent_area/cone_area\n",
    "\n",
    "\n",
    "\n",
    "def desired_speed(self, gamma=1.913, max_density=5.4, cone_density):\n",
    "    #Parameters: Normal speed\n",
    "    #cone_area_180 = 14.1371\n",
    "    #cone_area_170 = 13.3517\n",
    "    #agent_area: pi*(0.4**2) = 0.5027\n",
    "    #dens180 = agent_area/cone_area = 0.0356\n",
    "    #dens170 = agent_area/cone_area = 0.0356\n",
    "    cone_density = n_agents_in_cone * dens\n",
    "    return speed*(1 - np.exp(-gamma((1/cone_density)-(1/max_density))))"
   ]
  },
  {
   "cell_type": "code",
   "execution_count": 4,
   "metadata": {},
   "outputs": [
    {
     "name": "stdout",
     "output_type": "stream",
     "text": [
      "10.0 180.0\n"
     ]
    }
   ],
   "source": [
    "direction = 95\n",
    "vision_angle = 170\n",
    "# Calculate the lower angle and the upper angle\n",
    "lower_angle = direction - (vision_angle / 2)\n",
    "upper_angle = direction + (vision_angle / 2)\n",
    "print(lower_angle, upper_angle)"
   ]
  },
  {
   "cell_type": "code",
   "execution_count": 5,
   "metadata": {},
   "outputs": [
    {
     "data": {
      "text/plain": [
       "[10.0,\n",
       " 20.625,\n",
       " 31.25,\n",
       " 41.875,\n",
       " 52.5,\n",
       " 63.125,\n",
       " 73.75,\n",
       " 84.375,\n",
       " 95.0,\n",
       " 105.625,\n",
       " 116.25,\n",
       " 126.875,\n",
       " 137.5,\n",
       " 148.125,\n",
       " 158.75,\n",
       " 169.375,\n",
       " 180.0]"
      ]
     },
     "execution_count": 5,
     "metadata": {},
     "output_type": "execute_result"
    }
   ],
   "source": [
    "def possible_directions():\n",
    "    \"\"\"\n",
    "    TODO: STILL INCLUDES END BOUNDARIES OF VISION RANGE\n",
    "    \"\"\"\n",
    "    N = 16\n",
    "    theta_N = vision_angle/(N)\n",
    "    pos_directions = []\n",
    "    for i in range(N+1):\n",
    "        pos_directions.append(lower_angle+i*theta_N)\n",
    "\n",
    "    return pos_directions\n",
    "possible_directions()"
   ]
  },
  {
   "cell_type": "code",
   "execution_count": 6,
   "metadata": {},
   "outputs": [
    {
     "ename": "NameError",
     "evalue": "name 'math' is not defined",
     "output_type": "error",
     "traceback": [
      "\u001b[1;31m---------------------------------------------------------------------------\u001b[0m",
      "\u001b[1;31mNameError\u001b[0m                                 Traceback (most recent call last)",
      "\u001b[1;32m<ipython-input-6-d60219731e06>\u001b[0m in \u001b[0;36m<module>\u001b[1;34m()\u001b[0m\n\u001b[0;32m      6\u001b[0m     \u001b[1;32mreturn\u001b[0m \u001b[0mnew_pos\u001b[0m\u001b[1;33m\u001b[0m\u001b[0m\n\u001b[0;32m      7\u001b[0m \u001b[0mpos\u001b[0m\u001b[1;33m,\u001b[0m \u001b[0mdesired_velocity\u001b[0m\u001b[1;33m,\u001b[0m \u001b[0mtheta_chosen\u001b[0m \u001b[1;33m=\u001b[0m \u001b[1;33m(\u001b[0m\u001b[1;36m1\u001b[0m\u001b[1;33m,\u001b[0m\u001b[1;36m1\u001b[0m\u001b[1;33m)\u001b[0m\u001b[1;33m,\u001b[0m \u001b[1;36m2\u001b[0m\u001b[1;33m,\u001b[0m \u001b[1;36m90\u001b[0m\u001b[1;33m\u001b[0m\u001b[0m\n\u001b[1;32m----> 8\u001b[1;33m \u001b[0mnew_pos\u001b[0m\u001b[1;33m(\u001b[0m\u001b[0mpos\u001b[0m\u001b[1;33m,\u001b[0m \u001b[0mdesired_velocity\u001b[0m\u001b[1;33m,\u001b[0m \u001b[0mtheta_chosen\u001b[0m\u001b[1;33m)\u001b[0m\u001b[1;33m\u001b[0m\u001b[0m\n\u001b[0m",
      "\u001b[1;32m<ipython-input-6-d60219731e06>\u001b[0m in \u001b[0;36mnew_pos\u001b[1;34m(pos, desired_velocity, theta_chosen)\u001b[0m\n\u001b[0;32m      2\u001b[0m     \"\"\"\n\u001b[0;32m      3\u001b[0m     TODO: CHECK FUNCTION\"\"\"\n\u001b[1;32m----> 4\u001b[1;33m     \u001b[0mnew_pos\u001b[0m \u001b[1;33m=\u001b[0m \u001b[1;33m(\u001b[0m\u001b[0mpos\u001b[0m\u001b[1;33m[\u001b[0m\u001b[1;36m0\u001b[0m\u001b[1;33m]\u001b[0m \u001b[1;33m+\u001b[0m \u001b[0mdesired_velocity\u001b[0m\u001b[1;33m*\u001b[0m\u001b[0mnp\u001b[0m\u001b[1;33m.\u001b[0m\u001b[0mcos\u001b[0m\u001b[1;33m(\u001b[0m\u001b[0mmath\u001b[0m\u001b[1;33m.\u001b[0m\u001b[0mradians\u001b[0m\u001b[1;33m(\u001b[0m\u001b[0mtheta_chosen\u001b[0m\u001b[1;33m)\u001b[0m\u001b[1;33m)\u001b[0m\u001b[1;33m,\u001b[0m \u001b[0mpos\u001b[0m\u001b[1;33m[\u001b[0m\u001b[1;36m1\u001b[0m\u001b[1;33m]\u001b[0m\u001b[1;33m+\u001b[0m\u001b[0mdesired_velocity\u001b[0m\u001b[1;33m*\u001b[0m\u001b[0mnp\u001b[0m\u001b[1;33m.\u001b[0m\u001b[0msin\u001b[0m\u001b[1;33m(\u001b[0m\u001b[0mmath\u001b[0m\u001b[1;33m.\u001b[0m\u001b[0mradians\u001b[0m\u001b[1;33m(\u001b[0m\u001b[0mtheta_chosen\u001b[0m\u001b[1;33m)\u001b[0m\u001b[1;33m)\u001b[0m\u001b[1;33m)\u001b[0m\u001b[1;33m\u001b[0m\u001b[0m\n\u001b[0m\u001b[0;32m      5\u001b[0m \u001b[1;31m#     move_agent(agent, new_pos)\u001b[0m\u001b[1;33m\u001b[0m\u001b[1;33m\u001b[0m\u001b[0m\n\u001b[0;32m      6\u001b[0m     \u001b[1;32mreturn\u001b[0m \u001b[0mnew_pos\u001b[0m\u001b[1;33m\u001b[0m\u001b[0m\n",
      "\u001b[1;31mNameError\u001b[0m: name 'math' is not defined"
     ]
    }
   ],
   "source": [
    "def new_pos(pos, desired_velocity, theta_chosen):\n",
    "    \"\"\"\n",
    "    TODO: CHECK FUNCTION\"\"\"\n",
    "    new_pos = (pos[0] + desired_velocity*np.cos(math.radians(theta_chosen)), pos[1]+desired_velocity*np.sin(math.radians(theta_chosen)))\n",
    "#     move_agent(agent, new_pos)\n",
    "    return new_pos\n",
    "pos, desired_velocity, theta_chosen = (1,1), 2, 90\n",
    "new_pos(pos, desired_velocity, theta_chosen)"
   ]
  },
  {
   "cell_type": "code",
   "execution_count": 7,
   "metadata": {},
   "outputs": [
    {
     "ename": "NameError",
     "evalue": "name 'math' is not defined",
     "output_type": "error",
     "traceback": [
      "\u001b[1;31m---------------------------------------------------------------------------\u001b[0m",
      "\u001b[1;31mNameError\u001b[0m                                 Traceback (most recent call last)",
      "\u001b[1;32m<ipython-input-7-0a1578020dd6>\u001b[0m in \u001b[0;36m<module>\u001b[1;34m()\u001b[0m\n\u001b[0;32m      5\u001b[0m     \u001b[0mnew_pos\u001b[0m \u001b[1;33m=\u001b[0m \u001b[1;33m(\u001b[0m\u001b[0mpos\u001b[0m\u001b[1;33m[\u001b[0m\u001b[1;36m0\u001b[0m\u001b[1;33m]\u001b[0m \u001b[1;33m+\u001b[0m \u001b[0mchosen_velocity\u001b[0m\u001b[1;33m*\u001b[0m\u001b[0mnp\u001b[0m\u001b[1;33m.\u001b[0m\u001b[0mcos\u001b[0m\u001b[1;33m(\u001b[0m\u001b[0mmath\u001b[0m\u001b[1;33m.\u001b[0m\u001b[0mradians\u001b[0m\u001b[1;33m(\u001b[0m\u001b[0mtheta_chosen\u001b[0m\u001b[1;33m)\u001b[0m\u001b[1;33m)\u001b[0m\u001b[1;33m,\u001b[0m \u001b[0mpos\u001b[0m\u001b[1;33m[\u001b[0m\u001b[1;36m1\u001b[0m\u001b[1;33m]\u001b[0m\u001b[1;33m+\u001b[0m\u001b[0mchosen_velocity\u001b[0m\u001b[1;33m*\u001b[0m\u001b[0mnp\u001b[0m\u001b[1;33m.\u001b[0m\u001b[0msin\u001b[0m\u001b[1;33m(\u001b[0m\u001b[0mmath\u001b[0m\u001b[1;33m.\u001b[0m\u001b[0mradians\u001b[0m\u001b[1;33m(\u001b[0m\u001b[0mtheta_chosen\u001b[0m\u001b[1;33m)\u001b[0m\u001b[1;33m)\u001b[0m\u001b[1;33m)\u001b[0m\u001b[1;33m\u001b[0m\u001b[0m\n\u001b[0;32m      6\u001b[0m     \u001b[1;32mreturn\u001b[0m \u001b[0mnew_pos\u001b[0m\u001b[1;33m\u001b[0m\u001b[0m\n\u001b[1;32m----> 7\u001b[1;33m \u001b[0mnew_pos\u001b[0m\u001b[1;33m(\u001b[0m\u001b[0mdesired_velocity\u001b[0m\u001b[1;33m,\u001b[0m \u001b[0mtheta_chosen\u001b[0m\u001b[1;33m)\u001b[0m\u001b[1;33m\u001b[0m\u001b[0m\n\u001b[0m",
      "\u001b[1;32m<ipython-input-7-0a1578020dd6>\u001b[0m in \u001b[0;36mnew_pos\u001b[1;34m(chosen_velocity, theta_chosen)\u001b[0m\n\u001b[0;32m      3\u001b[0m     TODO: CHECK FUNCTION IF SENDS CORRECT NEW POSITION\"\"\"\n\u001b[0;32m      4\u001b[0m     \u001b[0mpos\u001b[0m \u001b[1;33m=\u001b[0m \u001b[1;33m(\u001b[0m\u001b[1;36m1\u001b[0m\u001b[1;33m,\u001b[0m\u001b[1;36m1\u001b[0m\u001b[1;33m)\u001b[0m\u001b[1;33m\u001b[0m\u001b[0m\n\u001b[1;32m----> 5\u001b[1;33m     \u001b[0mnew_pos\u001b[0m \u001b[1;33m=\u001b[0m \u001b[1;33m(\u001b[0m\u001b[0mpos\u001b[0m\u001b[1;33m[\u001b[0m\u001b[1;36m0\u001b[0m\u001b[1;33m]\u001b[0m \u001b[1;33m+\u001b[0m \u001b[0mchosen_velocity\u001b[0m\u001b[1;33m*\u001b[0m\u001b[0mnp\u001b[0m\u001b[1;33m.\u001b[0m\u001b[0mcos\u001b[0m\u001b[1;33m(\u001b[0m\u001b[0mmath\u001b[0m\u001b[1;33m.\u001b[0m\u001b[0mradians\u001b[0m\u001b[1;33m(\u001b[0m\u001b[0mtheta_chosen\u001b[0m\u001b[1;33m)\u001b[0m\u001b[1;33m)\u001b[0m\u001b[1;33m,\u001b[0m \u001b[0mpos\u001b[0m\u001b[1;33m[\u001b[0m\u001b[1;36m1\u001b[0m\u001b[1;33m]\u001b[0m\u001b[1;33m+\u001b[0m\u001b[0mchosen_velocity\u001b[0m\u001b[1;33m*\u001b[0m\u001b[0mnp\u001b[0m\u001b[1;33m.\u001b[0m\u001b[0msin\u001b[0m\u001b[1;33m(\u001b[0m\u001b[0mmath\u001b[0m\u001b[1;33m.\u001b[0m\u001b[0mradians\u001b[0m\u001b[1;33m(\u001b[0m\u001b[0mtheta_chosen\u001b[0m\u001b[1;33m)\u001b[0m\u001b[1;33m)\u001b[0m\u001b[1;33m)\u001b[0m\u001b[1;33m\u001b[0m\u001b[0m\n\u001b[0m\u001b[0;32m      6\u001b[0m     \u001b[1;32mreturn\u001b[0m \u001b[0mnew_pos\u001b[0m\u001b[1;33m\u001b[0m\u001b[0m\n\u001b[0;32m      7\u001b[0m \u001b[0mnew_pos\u001b[0m\u001b[1;33m(\u001b[0m\u001b[0mdesired_velocity\u001b[0m\u001b[1;33m,\u001b[0m \u001b[0mtheta_chosen\u001b[0m\u001b[1;33m)\u001b[0m\u001b[1;33m\u001b[0m\u001b[0m\n",
      "\u001b[1;31mNameError\u001b[0m: name 'math' is not defined"
     ]
    }
   ],
   "source": [
    "def new_pos(chosen_velocity, theta_chosen):\n",
    "    \"\"\"\n",
    "    TODO: CHECK FUNCTION IF SENDS CORRECT NEW POSITION\"\"\"\n",
    "    pos = (1,1)\n",
    "    new_pos = (pos[0] + chosen_velocity*np.cos(math.radians(theta_chosen)), pos[1]+chosen_velocity*np.sin(math.radians(theta_chosen)))\n",
    "    return new_pos\n",
    "new_pos(desired_velocity, theta_chosen)"
   ]
  },
  {
   "cell_type": "code",
   "execution_count": 8,
   "metadata": {},
   "outputs": [
    {
     "data": {
      "text/plain": [
       "1.75"
      ]
     },
     "execution_count": 8,
     "metadata": {},
     "output_type": "execute_result"
    }
   ],
   "source": [
    "#Efficiency of target approach\n",
    "def Ek(target_dist):\n",
    "    #Distance of proposed new position to target\n",
    "    R_vision_range = 3\n",
    "    speed_free = 2\n",
    "    return 1 - (target_dist - R_vision_range - speed_free)/(2*speed_free)\n",
    "Ek(2)"
   ]
  },
  {
   "cell_type": "code",
   "execution_count": 9,
   "metadata": {},
   "outputs": [],
   "source": [
    "#Efficiency of target approach\n",
    "def Ek(self, target_dist):\n",
    "    #Distance of proposed new position to target\n",
    "    return 1 - (target_dist - self.R_vision_range - self.speed_free)/(2*self.speed_free)\n"
   ]
  },
  {
   "cell_type": "code",
   "execution_count": 10,
   "metadata": {},
   "outputs": [],
   "source": [
    "#Interaction between pedestrians and obstacles    \n",
    "def Ok(self, dist_nearest_object, vision_length):\n",
    "    #nearest object: min of jordans cone search list?\n",
    "    Ok = distance_to_obj/R_vision_range\n",
    "    return Ok"
   ]
  },
  {
   "cell_type": "code",
   "execution_count": 11,
   "metadata": {},
   "outputs": [
    {
     "ename": "SyntaxError",
     "evalue": "invalid syntax (<ipython-input-11-f2f84f83714d>, line 3)",
     "output_type": "error",
     "traceback": [
      "\u001b[1;36m  File \u001b[1;32m\"<ipython-input-11-f2f84f83714d>\"\u001b[1;36m, line \u001b[1;32m3\u001b[0m\n\u001b[1;33m    return Pk = distance_to_obj/R_vision_range\u001b[0m\n\u001b[1;37m              ^\u001b[0m\n\u001b[1;31mSyntaxError\u001b[0m\u001b[1;31m:\u001b[0m invalid syntax\n"
     ]
    }
   ],
   "source": [
    "#Keep distance from other pedestrians    \n",
    "def Pk(self, d_nearest_pedestrian, vision_length):\n",
    "    return Pk = distance_to_obj/R_vision_range\n"
   ]
  },
  {
   "cell_type": "code",
   "execution_count": 12,
   "metadata": {},
   "outputs": [
    {
     "ename": "SyntaxError",
     "evalue": "invalid syntax (<ipython-input-12-dc09f62484f1>, line 5)",
     "output_type": "error",
     "traceback": [
      "\u001b[1;36m  File \u001b[1;32m\"<ipython-input-12-dc09f62484f1>\"\u001b[1;36m, line \u001b[1;32m5\u001b[0m\n\u001b[1;33m    return Ak = 1 - abs()\u001b[0m\n\u001b[1;37m              ^\u001b[0m\n\u001b[1;31mSyntaxError\u001b[0m\u001b[1;31m:\u001b[0m invalid syntax\n"
     ]
    }
   ],
   "source": [
    "#Avoid future collisions with other pedestrians\n",
    "def Ak(self, proposed_direction, nearest_agent_vector):\n",
    "    #Movement vector of nearest agent\n",
    "    rel_angle_agents = get_heading(proposed_direction, nearest_agent_vector)\n",
    "    return Ak = 1 - abs()\n",
    "    \n",
    "    \n",
    "    1 - abs(rel_angle)/np.pi"
   ]
  },
  {
   "cell_type": "code",
   "execution_count": 13,
   "metadata": {},
   "outputs": [
    {
     "ename": "NameError",
     "evalue": "name 'math' is not defined",
     "output_type": "error",
     "traceback": [
      "\u001b[1;31m---------------------------------------------------------------------------\u001b[0m",
      "\u001b[1;31mNameError\u001b[0m                                 Traceback (most recent call last)",
      "\u001b[1;32m<ipython-input-13-07f623f60d3f>\u001b[0m in \u001b[0;36m<module>\u001b[1;34m()\u001b[0m\n\u001b[0;32m      4\u001b[0m     \u001b[0mnew_pos\u001b[0m \u001b[1;33m=\u001b[0m \u001b[1;33m(\u001b[0m\u001b[0mpos\u001b[0m\u001b[1;33m[\u001b[0m\u001b[1;36m0\u001b[0m\u001b[1;33m]\u001b[0m \u001b[1;33m+\u001b[0m \u001b[0mchosen_velocity\u001b[0m\u001b[1;33m*\u001b[0m\u001b[0mnp\u001b[0m\u001b[1;33m.\u001b[0m\u001b[0mcos\u001b[0m\u001b[1;33m(\u001b[0m\u001b[0mmath\u001b[0m\u001b[1;33m.\u001b[0m\u001b[0mradians\u001b[0m\u001b[1;33m(\u001b[0m\u001b[0mtheta_chosen\u001b[0m\u001b[1;33m)\u001b[0m\u001b[1;33m)\u001b[0m\u001b[1;33m,\u001b[0m \u001b[0mpos\u001b[0m\u001b[1;33m[\u001b[0m\u001b[1;36m1\u001b[0m\u001b[1;33m]\u001b[0m\u001b[1;33m+\u001b[0m\u001b[0mchosen_velocity\u001b[0m\u001b[1;33m*\u001b[0m\u001b[0mnp\u001b[0m\u001b[1;33m.\u001b[0m\u001b[0msin\u001b[0m\u001b[1;33m(\u001b[0m\u001b[0mmath\u001b[0m\u001b[1;33m.\u001b[0m\u001b[0mradians\u001b[0m\u001b[1;33m(\u001b[0m\u001b[0mtheta_chosen\u001b[0m\u001b[1;33m)\u001b[0m\u001b[1;33m)\u001b[0m\u001b[1;33m)\u001b[0m\u001b[1;33m\u001b[0m\u001b[0m\n\u001b[0;32m      5\u001b[0m     \u001b[1;32mreturn\u001b[0m \u001b[0mnew_pos\u001b[0m\u001b[1;33m\u001b[0m\u001b[0m\n\u001b[1;32m----> 6\u001b[1;33m \u001b[0mnew_pos\u001b[0m\u001b[1;33m(\u001b[0m\u001b[1;33m(\u001b[0m\u001b[1;36m1\u001b[0m\u001b[1;33m,\u001b[0m\u001b[1;36m1\u001b[0m\u001b[1;33m)\u001b[0m\u001b[1;33m,\u001b[0m \u001b[1;36m1\u001b[0m\u001b[1;33m,\u001b[0m \u001b[1;33m-\u001b[0m\u001b[1;36m45\u001b[0m\u001b[1;33m)\u001b[0m\u001b[1;33m\u001b[0m\u001b[0m\n\u001b[0m",
      "\u001b[1;32m<ipython-input-13-07f623f60d3f>\u001b[0m in \u001b[0;36mnew_pos\u001b[1;34m(pos, chosen_velocity, theta_chosen)\u001b[0m\n\u001b[0;32m      2\u001b[0m     \"\"\"\n\u001b[0;32m      3\u001b[0m     TODO: CHECK FUNCTION IF SENDS CORRECT NEW POSITION\"\"\"\n\u001b[1;32m----> 4\u001b[1;33m     \u001b[0mnew_pos\u001b[0m \u001b[1;33m=\u001b[0m \u001b[1;33m(\u001b[0m\u001b[0mpos\u001b[0m\u001b[1;33m[\u001b[0m\u001b[1;36m0\u001b[0m\u001b[1;33m]\u001b[0m \u001b[1;33m+\u001b[0m \u001b[0mchosen_velocity\u001b[0m\u001b[1;33m*\u001b[0m\u001b[0mnp\u001b[0m\u001b[1;33m.\u001b[0m\u001b[0mcos\u001b[0m\u001b[1;33m(\u001b[0m\u001b[0mmath\u001b[0m\u001b[1;33m.\u001b[0m\u001b[0mradians\u001b[0m\u001b[1;33m(\u001b[0m\u001b[0mtheta_chosen\u001b[0m\u001b[1;33m)\u001b[0m\u001b[1;33m)\u001b[0m\u001b[1;33m,\u001b[0m \u001b[0mpos\u001b[0m\u001b[1;33m[\u001b[0m\u001b[1;36m1\u001b[0m\u001b[1;33m]\u001b[0m\u001b[1;33m+\u001b[0m\u001b[0mchosen_velocity\u001b[0m\u001b[1;33m*\u001b[0m\u001b[0mnp\u001b[0m\u001b[1;33m.\u001b[0m\u001b[0msin\u001b[0m\u001b[1;33m(\u001b[0m\u001b[0mmath\u001b[0m\u001b[1;33m.\u001b[0m\u001b[0mradians\u001b[0m\u001b[1;33m(\u001b[0m\u001b[0mtheta_chosen\u001b[0m\u001b[1;33m)\u001b[0m\u001b[1;33m)\u001b[0m\u001b[1;33m)\u001b[0m\u001b[1;33m\u001b[0m\u001b[0m\n\u001b[0m\u001b[0;32m      5\u001b[0m     \u001b[1;32mreturn\u001b[0m \u001b[0mnew_pos\u001b[0m\u001b[1;33m\u001b[0m\u001b[0m\n\u001b[0;32m      6\u001b[0m \u001b[0mnew_pos\u001b[0m\u001b[1;33m(\u001b[0m\u001b[1;33m(\u001b[0m\u001b[1;36m1\u001b[0m\u001b[1;33m,\u001b[0m\u001b[1;36m1\u001b[0m\u001b[1;33m)\u001b[0m\u001b[1;33m,\u001b[0m \u001b[1;36m1\u001b[0m\u001b[1;33m,\u001b[0m \u001b[1;33m-\u001b[0m\u001b[1;36m45\u001b[0m\u001b[1;33m)\u001b[0m\u001b[1;33m\u001b[0m\u001b[0m\n",
      "\u001b[1;31mNameError\u001b[0m: name 'math' is not defined"
     ]
    }
   ],
   "source": [
    "def new_pos(pos, chosen_velocity, theta_chosen):\n",
    "    \"\"\"\n",
    "    TODO: CHECK FUNCTION IF SENDS CORRECT NEW POSITION\"\"\"\n",
    "    new_pos = (pos[0] + chosen_velocity*np.cos(math.radians(theta_chosen)), pos[1]+chosen_velocity*np.sin(math.radians(theta_chosen)))\n",
    "    return new_pos\n",
    "new_pos((1,1), 1, -45)"
   ]
  },
  {
   "cell_type": "code",
   "execution_count": 14,
   "metadata": {},
   "outputs": [
    {
     "data": {
      "text/plain": [
       "0.7071067811865476"
      ]
     },
     "execution_count": 14,
     "metadata": {},
     "output_type": "execute_result"
    }
   ],
   "source": [
    ".5*(2)**.5"
   ]
  },
  {
   "cell_type": "code",
   "execution_count": 29,
   "metadata": {},
   "outputs": [
    {
     "name": "stdout",
     "output_type": "stream",
     "text": [
      "5.4 0.0\n",
      "0.49090909090909096 1.3012228056106485\n",
      "0.2571428571428572 1.3388778576084257\n",
      "0.17419354838709677 1.3399675272136937\n",
      "0.13170731707317074 1.3399990602958607\n",
      "0.10588235294117648 1.3399999728066492\n",
      "0.08852459016393444 1.3399999992130733\n",
      "0.07605633802816902 1.3399999999772279\n",
      "0.06666666666666667 1.339999999999341\n",
      "0.059340659340659345 1.339999999999981\n"
     ]
    }
   ],
   "source": [
    "import math\n",
    "vf = 1.34\n",
    "rhomax = 5.4\n",
    "gamma = 1.913\n",
    "rho = .9\n",
    "for i in range(1, 100, 10):\n",
    "    rho = rhomax/i\n",
    "    print(rho, vf*(1-math.exp(-gamma*(1/rho-1/rhomax))))"
   ]
  },
  {
   "cell_type": "code",
   "execution_count": 18,
   "metadata": {},
   "outputs": [
    {
     "ename": "ZeroDivisionError",
     "evalue": "division by zero",
     "output_type": "error",
     "traceback": [
      "\u001b[1;31m---------------------------------------------------------------------------\u001b[0m",
      "\u001b[1;31mZeroDivisionError\u001b[0m                         Traceback (most recent call last)",
      "\u001b[1;32m<ipython-input-18-a71e8bb4d82a>\u001b[0m in \u001b[0;36m<module>\u001b[1;34m()\u001b[0m\n\u001b[0;32m      1\u001b[0m \u001b[0mrho\u001b[0m \u001b[1;33m=\u001b[0m \u001b[1;36m0\u001b[0m\u001b[1;33m\u001b[0m\u001b[0m\n\u001b[1;32m----> 2\u001b[1;33m \u001b[0mvf\u001b[0m\u001b[1;33m*\u001b[0m\u001b[1;33m(\u001b[0m\u001b[1;36m1\u001b[0m\u001b[1;33m-\u001b[0m\u001b[0mmath\u001b[0m\u001b[1;33m.\u001b[0m\u001b[0mexp\u001b[0m\u001b[1;33m(\u001b[0m\u001b[1;33m-\u001b[0m\u001b[0mgamma\u001b[0m\u001b[1;33m*\u001b[0m\u001b[1;33m(\u001b[0m\u001b[1;36m1\u001b[0m\u001b[1;33m/\u001b[0m\u001b[0mrho\u001b[0m\u001b[1;33m-\u001b[0m\u001b[1;36m1\u001b[0m\u001b[1;33m/\u001b[0m\u001b[0mrhomax\u001b[0m\u001b[1;33m)\u001b[0m\u001b[1;33m)\u001b[0m\u001b[1;33m)\u001b[0m\u001b[1;33m\u001b[0m\u001b[0m\n\u001b[0m",
      "\u001b[1;31mZeroDivisionError\u001b[0m: division by zero"
     ]
    }
   ],
   "source": [
    "rho = 0\n",
    "vf*(1-math.exp(-gamma*(1/rho-1/rhomax)))"
   ]
  },
  {
   "cell_type": "code",
   "execution_count": 36,
   "metadata": {},
   "outputs": [
    {
     "data": {
      "image/png": "[encoded data removed]",
      "text/plain": [
       "<Figure size 432x288 with 1 Axes>"
      ]
     },
     "metadata": {
      "needs_background": "light"
     },
     "output_type": "display_data"
    }
   ],
   "source": [
    "import random\n",
    "import matplotlib.pyplot as plt\n",
    "plt.hist([random.gauss(5, 1) for i in range(10000)])\n",
    "plt.show()"
   ]
  },
  {
   "cell_type": "code",
   "execution_count": 45,
   "metadata": {},
   "outputs": [
    {
     "name": "stdout",
     "output_type": "stream",
     "text": [
      "radians 1.0 degrees 1.0\n",
      "radians 0.9333333333333333 degrees -2.819718634205488\n",
      "radians 0.5 degrees -27.64788975654116\n",
      "radians 0.0 degrees -56.29577951308232\n",
      "radians -0.5 degrees -84.94366926962348\n",
      "radians -1.0 degrees -113.59155902616465\n"
     ]
    }
   ],
   "source": [
    "thetas = [0, 12, 90, 180, 270, 360]\n",
    "for theta in thetas:\n",
    "    print('radians', 1-abs(math.radians(theta))/math.pi, 'degrees', (1-abs(theta)/math.pi))"
   ]
  },
  {
   "cell_type": "code",
   "execution_count": 46,
   "metadata": {},
   "outputs": [
    {
     "ename": "TypeError",
     "evalue": "'>' not supported between instances of 'int' and 'NoneType'",
     "output_type": "error",
     "traceback": [
      "\u001b[1;31m---------------------------------------------------------------------------\u001b[0m",
      "\u001b[1;31mTypeError\u001b[0m                                 Traceback (most recent call last)",
      "\u001b[1;32m<ipython-input-46-d0fa247c6e5f>\u001b[0m in \u001b[0;36m<module>\u001b[1;34m()\u001b[0m\n\u001b[1;32m----> 1\u001b[1;33m \u001b[1;32mif\u001b[0m \u001b[1;36m3\u001b[0m \u001b[1;33m>\u001b[0m \u001b[1;32mNone\u001b[0m\u001b[1;33m:\u001b[0m\u001b[1;33m\u001b[0m\u001b[0m\n\u001b[0m\u001b[0;32m      2\u001b[0m     \u001b[0mprint\u001b[0m\u001b[1;33m(\u001b[0m\u001b[1;34m'11'\u001b[0m\u001b[1;33m)\u001b[0m\u001b[1;33m\u001b[0m\u001b[0m\n",
      "\u001b[1;31mTypeError\u001b[0m: '>' not supported between instances of 'int' and 'NoneType'"
     ]
    }
   ],
   "source": [
    "if 3 > None:\n",
    "    print('11')"
   ]
  },
  {
   "cell_type": "code",
   "execution_count": null,
   "metadata": {},
   "outputs": [],
   "source": [
    "def within_wall(self, direction):\n",
    "    \"\"\"\n",
    "    Returns True if \n",
    "    \"\"\"\n",
    "    max_x_pos = self.pos[0] + self.R_vision_range*np.cos(math.radians(direction))\n",
    "    # If the maximum x position is outside of the walls, return distance\n",
    "    if max_x_pos < self.walls_x[0]:\n",
    "        return False\n",
    "    \n",
    "    elif: max_x_pos > self.walls_x[1]:\n",
    "        return False\n",
    "    else:\n",
    "        return self.R_vision_range"
   ]
  }
 ],
 "metadata": {
  "kernelspec": {
   "display_name": "Python 3",
   "language": "python",
   "name": "python3"
  },
  "language_info": {
   "codemirror_mode": {
    "name": "ipython",
    "version": 3
   },
   "file_extension": ".py",
   "mimetype": "text/x-python",
   "name": "python",
   "nbconvert_exporter": "python",
   "pygments_lexer": "ipython3",
   "version": "3.6.5"
  }
 },
 "nbformat": 4,
 "nbformat_minor": 2
}
