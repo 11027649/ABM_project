{
 "cells": [
  {
   "cell_type": "code",
   "execution_count": 1,
   "metadata": {},
   "outputs": [
    {
     "ename": "SyntaxError",
     "evalue": "invalid syntax (<ipython-input-1-6518a8d5ed17>, line 29)",
     "output_type": "error",
     "traceback": [
      "\u001b[1;36m  File \u001b[1;32m\"<ipython-input-1-6518a8d5ed17>\"\u001b[1;36m, line \u001b[1;32m29\u001b[0m\n\u001b[1;33m    return Pk = distance_to_obj/R_vision_range\u001b[0m\n\u001b[1;37m              ^\u001b[0m\n\u001b[1;31mSyntaxError\u001b[0m\u001b[1;31m:\u001b[0m invalid syntax\n"
     ]
    }
   ],
   "source": [
    "#Gamma and density parameters set as given in this Liu 2014\n",
    "def desired_speed(self, gamma=1.913, max_density=5.4, density_in_view_range):\n",
    "    #Parameters: Normal speed, \n",
    "    return speed*(1 - np.exp(-gamma((1/density_in_view_range)-(1/max_density))))\n",
    "\n",
    "def new_pos(self, pos, desired_velocity, theta_chosen):\n",
    "    new_pos = (desired_veloctiy(agent)*np.cos(theta_chosen), desired_velocity*np.sin(theta_chosen))\n",
    "    move_agent(agent, new_pos)\n",
    "\n",
    "    \n",
    "#Calculating Utility parameters \n",
    "\n",
    "#Efficiency of target approach\n",
    "def Ek(self, direction):\n",
    "    #Distance of proposed new position to target\n",
    "    proposed_dist = \"\"\"max dist in this direction, considering objects and desired speed\"\"\"\n",
    "    Ek = 1 - (proposed_dist - vision - speed*dt)/2*(speed*dt)\n",
    "    return Ek\n",
    "\n",
    "#Interaction between pedestrians and obstacles    \n",
    "def Ok(self, dist_nearest_object, vision_length):\n",
    "    #nearest object: min of jordans cone search list?\n",
    "    Ok = distance_to_obj/R_vision_range\n",
    "    return Ok\n",
    "\n",
    "\n",
    "#Keep distance from other pedestrians    \n",
    "def Pk(self, d_nearest_pedestrian, vision_length):\n",
    "    return Pk = distance_to_obj/R_vision_range\n",
    "\n",
    "#Avoid future collisions with other pedestrians\n",
    "def Ak(self, proposed_direction, nearest_agent_vector):\n",
    "    #Movement vector of nearest agent\n",
    "    rel_angle_agents = get_heading(proposed_direction, nearest_agent_vector)\n",
    "    return Ak = 1 - abs()\n",
    "    \n",
    "    \n",
    "    1 - abs(rel_angle)/np.pi\n",
    "    \n",
    "#Inertia \n",
    "def Ik(self, proposed_direction, current_direction):\n",
    "    rel_angle_proposed_current = get_heading(proposed_direction, current_direction)\n",
    "    return Ik = abs(rel_angle_proposed_current)/(theta/2)\n",
    "    \n",
    "Ek = 1 - (Dk_target - self.R_vision_range - Rk_step)/(2*Rk_step)\n",
    "Ok = distance_to_obj/R_vision_range\n",
    "Pk = distance_to_ped/R_vision_range\n",
    "Ak = None\n",
    "Ik = None"
   ]
  },
  {
   "cell_type": "code",
   "execution_count": 2,
   "metadata": {},
   "outputs": [
    {
     "name": "stdout",
     "output_type": "stream",
     "text": [
      "8.272\n"
     ]
    },
    {
     "data": {
      "text/plain": [
       "0"
      ]
     },
     "execution_count": 2,
     "metadata": {},
     "output_type": "execute_result"
    }
   ],
   "source": [
    "import numpy as np\n",
    "speed_free = 1\n",
    "density_in_view_range = 220\n",
    "def desired_speed(density_in_view_range, gamma=1.913, max_density=5.4):\n",
    "    #Parameters: Normal speed, \n",
    "    return speed_free * (1 - np.exp(-gamma * ((1/density_in_view_range)-(1/max_density))))\n",
    "\n",
    "desired_speed(density_in_view_range, gamma=1.913, max_density=5.4)\n",
    "\n",
    "\n",
    "def desired_speed(n_agents_in_cone, gamma=1.913, max_density=5.4):\n",
    "    #Parameters: Normal speed\n",
    "    # cone_area_170 = 13.3517\n",
    "    # agent_area: pi*(0.4**2) = 0.5027\n",
    "    vision_angle = 170\n",
    "    if vision_angle == 170:\n",
    "        # dens = agent_area/cone_area\n",
    "        dens = 0.0376\n",
    "    else:\n",
    "        # TODO: remove hardcoding\n",
    "        raise ValueError('Code only works for 170 degrees vision range for now') \n",
    "    cone_density = n_agents_in_cone * dens\n",
    "    print(cone_density)\n",
    "    des_speed = speed_free*(1 - np.exp(-gamma*((1/cone_density)-(1/max_density))))\n",
    "    # Check if speed is not negative?\n",
    "    if des_speed >= 0:\n",
    "        return des_speed\n",
    "    else:\n",
    "        # TODO: set a default speed?\n",
    "        return 0\n",
    "\n",
    "desired_speed(density_in_view_range, gamma=1.913, max_density=5.4)\n"
   ]
  },
  {
   "cell_type": "code",
   "execution_count": 3,
   "metadata": {},
   "outputs": [
    {
     "ename": "SyntaxError",
     "evalue": "non-default argument follows default argument (<ipython-input-3-b1ae4ba752ef>, line 20)",
     "output_type": "error",
     "traceback": [
      "\u001b[1;36m  File \u001b[1;32m\"<ipython-input-3-b1ae4ba752ef>\"\u001b[1;36m, line \u001b[1;32m20\u001b[0m\n\u001b[1;33m    def desired_speed(self, gamma=1.913, max_density=5.4, cone_density):\u001b[0m\n\u001b[1;37m                     ^\u001b[0m\n\u001b[1;31mSyntaxError\u001b[0m\u001b[1;31m:\u001b[0m non-default argument follows default argument\n"
     ]
    }
   ],
   "source": [
    "import numpy as np\n",
    "\n",
    "#180 degrees\n",
    "cone_area = (np.pi*(3**2))/2\n",
    "\n",
    "#170 degrees\n",
    "cone_area_170 = cone_area - (1/18)*cone_area\n",
    "\n",
    "print(cone_area, cone_area_170)\n",
    "\n",
    "#agent area\n",
    "agent_area = np.pi*(0.4**2)\n",
    "\n",
    "print(agent_area/cone_area)\n",
    "\n",
    "cone_density = num_agents_in_cone*agent_area/cone_area\n",
    "\n",
    "\n",
    "\n",
    "def desired_speed(self, gamma=1.913, max_density=5.4, cone_density):\n",
    "    #Parameters: Normal speed\n",
    "    #cone_area_180 = 14.1371\n",
    "    #cone_area_170 = 13.3517\n",
    "    #agent_area: pi*(0.4**2) = 0.5027\n",
    "    if vision_angle == 170:\n",
    "        # dens = agent_area/cone_area\n",
    "        dens = agent_area/cone_area = 0.0376\n",
    "    cone_density = n_agents_in_cone * dens\n",
    "    return speed*(1 - np.exp(-gamma((1/cone_density)-(1/max_density))))"
   ]
  },
  {
   "cell_type": "code",
   "execution_count": 4,
   "metadata": {},
   "outputs": [
    {
     "ename": "SyntaxError",
     "evalue": "non-default argument follows default argument (<ipython-input-4-3ffda441bc41>, line 20)",
     "output_type": "error",
     "traceback": [
      "\u001b[1;36m  File \u001b[1;32m\"<ipython-input-4-3ffda441bc41>\"\u001b[1;36m, line \u001b[1;32m20\u001b[0m\n\u001b[1;33m    def desired_speed(self, gamma=1.913, max_density=5.4, cone_density):\u001b[0m\n\u001b[1;37m                     ^\u001b[0m\n\u001b[1;31mSyntaxError\u001b[0m\u001b[1;31m:\u001b[0m non-default argument follows default argument\n"
     ]
    }
   ],
   "source": [
    "import numpy as np\n",
    "\n",
    "#180 degrees\n",
    "cone_area = (np.pi*(3**2))/2\n",
    "\n",
    "#170 degrees\n",
    "cone_area_170 = cone_area - (1/18)*cone_area\n",
    "\n",
    "print(cone_area, cone_area_170)\n",
    "\n",
    "#agent area\n",
    "agent_area = np.pi*(0.4**2)\n",
    "\n",
    "print(agent_area/cone_area)\n",
    "\n",
    "cone_density = num_agents_in_cone*agent_area/cone_area\n",
    "\n",
    "\n",
    "\n",
    "def desired_speed(self, gamma=1.913, max_density=5.4, cone_density):\n",
    "    #Parameters: Normal speed\n",
    "    #cone_area_180 = 14.1371\n",
    "    #cone_area_170 = 13.3517\n",
    "    #agent_area: pi*(0.4**2) = 0.5027\n",
    "    #dens180 = agent_area/cone_area = 0.0356\n",
    "    #dens170 = agent_area/cone_area = 0.0356\n",
    "    cone_density = n_agents_in_cone * dens\n",
    "    return speed*(1 - np.exp(-gamma((1/cone_density)-(1/max_density))))"
   ]
  },
  {
   "cell_type": "code",
   "execution_count": 5,
   "metadata": {},
   "outputs": [
    {
     "name": "stdout",
     "output_type": "stream",
     "text": [
      "10.0 180.0\n"
     ]
    }
   ],
   "source": [
    "direction = 95\n",
    "vision_angle = 170\n",
    "# Calculate the lower angle and the upper angle\n",
    "lower_angle = direction - (vision_angle / 2)\n",
    "upper_angle = direction + (vision_angle / 2)\n",
    "print(lower_angle, upper_angle)"
   ]
  },
  {
   "cell_type": "code",
   "execution_count": 6,
   "metadata": {},
   "outputs": [
    {
     "data": {
      "text/plain": [
       "17"
      ]
     },
     "execution_count": 6,
     "metadata": {},
     "output_type": "execute_result"
    }
   ],
   "source": [
    "def possible_directions():\n",
    "    \"\"\"\n",
    "    TODO: STILL INCLUDES END BOUNDARIES OF VISION RANGE\n",
    "    \"\"\"\n",
    "    N = 17\n",
    "    theta_N = vision_angle/(N-1)\n",
    "    pos_directions = []\n",
    "    for i in range(N):\n",
    "        pos_directions.append(lower_angle+i*theta_N)\n",
    "\n",
    "    return pos_directions\n",
    "len(possible_directions())"
   ]
  },
  {
   "cell_type": "code",
   "execution_count": 7,
   "metadata": {},
   "outputs": [
    {
     "ename": "NameError",
     "evalue": "name 'math' is not defined",
     "output_type": "error",
     "traceback": [
      "\u001b[1;31m---------------------------------------------------------------------------\u001b[0m",
      "\u001b[1;31mNameError\u001b[0m                                 Traceback (most recent call last)",
      "\u001b[1;32m<ipython-input-7-d60219731e06>\u001b[0m in \u001b[0;36m<module>\u001b[1;34m()\u001b[0m\n\u001b[0;32m      6\u001b[0m     \u001b[1;32mreturn\u001b[0m \u001b[0mnew_pos\u001b[0m\u001b[1;33m\u001b[0m\u001b[0m\n\u001b[0;32m      7\u001b[0m \u001b[0mpos\u001b[0m\u001b[1;33m,\u001b[0m \u001b[0mdesired_velocity\u001b[0m\u001b[1;33m,\u001b[0m \u001b[0mtheta_chosen\u001b[0m \u001b[1;33m=\u001b[0m \u001b[1;33m(\u001b[0m\u001b[1;36m1\u001b[0m\u001b[1;33m,\u001b[0m\u001b[1;36m1\u001b[0m\u001b[1;33m)\u001b[0m\u001b[1;33m,\u001b[0m \u001b[1;36m2\u001b[0m\u001b[1;33m,\u001b[0m \u001b[1;36m90\u001b[0m\u001b[1;33m\u001b[0m\u001b[0m\n\u001b[1;32m----> 8\u001b[1;33m \u001b[0mnew_pos\u001b[0m\u001b[1;33m(\u001b[0m\u001b[0mpos\u001b[0m\u001b[1;33m,\u001b[0m \u001b[0mdesired_velocity\u001b[0m\u001b[1;33m,\u001b[0m \u001b[0mtheta_chosen\u001b[0m\u001b[1;33m)\u001b[0m\u001b[1;33m\u001b[0m\u001b[0m\n\u001b[0m",
      "\u001b[1;32m<ipython-input-7-d60219731e06>\u001b[0m in \u001b[0;36mnew_pos\u001b[1;34m(pos, desired_velocity, theta_chosen)\u001b[0m\n\u001b[0;32m      2\u001b[0m     \"\"\"\n\u001b[0;32m      3\u001b[0m     TODO: CHECK FUNCTION\"\"\"\n\u001b[1;32m----> 4\u001b[1;33m     \u001b[0mnew_pos\u001b[0m \u001b[1;33m=\u001b[0m \u001b[1;33m(\u001b[0m\u001b[0mpos\u001b[0m\u001b[1;33m[\u001b[0m\u001b[1;36m0\u001b[0m\u001b[1;33m]\u001b[0m \u001b[1;33m+\u001b[0m \u001b[0mdesired_velocity\u001b[0m\u001b[1;33m*\u001b[0m\u001b[0mnp\u001b[0m\u001b[1;33m.\u001b[0m\u001b[0mcos\u001b[0m\u001b[1;33m(\u001b[0m\u001b[0mmath\u001b[0m\u001b[1;33m.\u001b[0m\u001b[0mradians\u001b[0m\u001b[1;33m(\u001b[0m\u001b[0mtheta_chosen\u001b[0m\u001b[1;33m)\u001b[0m\u001b[1;33m)\u001b[0m\u001b[1;33m,\u001b[0m \u001b[0mpos\u001b[0m\u001b[1;33m[\u001b[0m\u001b[1;36m1\u001b[0m\u001b[1;33m]\u001b[0m\u001b[1;33m+\u001b[0m\u001b[0mdesired_velocity\u001b[0m\u001b[1;33m*\u001b[0m\u001b[0mnp\u001b[0m\u001b[1;33m.\u001b[0m\u001b[0msin\u001b[0m\u001b[1;33m(\u001b[0m\u001b[0mmath\u001b[0m\u001b[1;33m.\u001b[0m\u001b[0mradians\u001b[0m\u001b[1;33m(\u001b[0m\u001b[0mtheta_chosen\u001b[0m\u001b[1;33m)\u001b[0m\u001b[1;33m)\u001b[0m\u001b[1;33m)\u001b[0m\u001b[1;33m\u001b[0m\u001b[0m\n\u001b[0m\u001b[0;32m      5\u001b[0m \u001b[1;31m#     move_agent(agent, new_pos)\u001b[0m\u001b[1;33m\u001b[0m\u001b[1;33m\u001b[0m\u001b[0m\n\u001b[0;32m      6\u001b[0m     \u001b[1;32mreturn\u001b[0m \u001b[0mnew_pos\u001b[0m\u001b[1;33m\u001b[0m\u001b[0m\n",
      "\u001b[1;31mNameError\u001b[0m: name 'math' is not defined"
     ]
    }
   ],
   "source": [
    "def new_pos(pos, desired_velocity, theta_chosen):\n",
    "    \"\"\"\n",
    "    TODO: CHECK FUNCTION\"\"\"\n",
    "    new_pos = (pos[0] + desired_velocity*np.cos(math.radians(theta_chosen)), pos[1]+desired_velocity*np.sin(math.radians(theta_chosen)))\n",
    "#     move_agent(agent, new_pos)\n",
    "    return new_pos\n",
    "pos, desired_velocity, theta_chosen = (1,1), 2, 90\n",
    "new_pos(pos, desired_velocity, theta_chosen)"
   ]
  },
  {
   "cell_type": "code",
   "execution_count": 8,
   "metadata": {},
   "outputs": [
    {
     "ename": "NameError",
     "evalue": "name 'math' is not defined",
     "output_type": "error",
     "traceback": [
      "\u001b[1;31m---------------------------------------------------------------------------\u001b[0m",
      "\u001b[1;31mNameError\u001b[0m                                 Traceback (most recent call last)",
      "\u001b[1;32m<ipython-input-8-0a1578020dd6>\u001b[0m in \u001b[0;36m<module>\u001b[1;34m()\u001b[0m\n\u001b[0;32m      5\u001b[0m     \u001b[0mnew_pos\u001b[0m \u001b[1;33m=\u001b[0m \u001b[1;33m(\u001b[0m\u001b[0mpos\u001b[0m\u001b[1;33m[\u001b[0m\u001b[1;36m0\u001b[0m\u001b[1;33m]\u001b[0m \u001b[1;33m+\u001b[0m \u001b[0mchosen_velocity\u001b[0m\u001b[1;33m*\u001b[0m\u001b[0mnp\u001b[0m\u001b[1;33m.\u001b[0m\u001b[0mcos\u001b[0m\u001b[1;33m(\u001b[0m\u001b[0mmath\u001b[0m\u001b[1;33m.\u001b[0m\u001b[0mradians\u001b[0m\u001b[1;33m(\u001b[0m\u001b[0mtheta_chosen\u001b[0m\u001b[1;33m)\u001b[0m\u001b[1;33m)\u001b[0m\u001b[1;33m,\u001b[0m \u001b[0mpos\u001b[0m\u001b[1;33m[\u001b[0m\u001b[1;36m1\u001b[0m\u001b[1;33m]\u001b[0m\u001b[1;33m+\u001b[0m\u001b[0mchosen_velocity\u001b[0m\u001b[1;33m*\u001b[0m\u001b[0mnp\u001b[0m\u001b[1;33m.\u001b[0m\u001b[0msin\u001b[0m\u001b[1;33m(\u001b[0m\u001b[0mmath\u001b[0m\u001b[1;33m.\u001b[0m\u001b[0mradians\u001b[0m\u001b[1;33m(\u001b[0m\u001b[0mtheta_chosen\u001b[0m\u001b[1;33m)\u001b[0m\u001b[1;33m)\u001b[0m\u001b[1;33m)\u001b[0m\u001b[1;33m\u001b[0m\u001b[0m\n\u001b[0;32m      6\u001b[0m     \u001b[1;32mreturn\u001b[0m \u001b[0mnew_pos\u001b[0m\u001b[1;33m\u001b[0m\u001b[0m\n\u001b[1;32m----> 7\u001b[1;33m \u001b[0mnew_pos\u001b[0m\u001b[1;33m(\u001b[0m\u001b[0mdesired_velocity\u001b[0m\u001b[1;33m,\u001b[0m \u001b[0mtheta_chosen\u001b[0m\u001b[1;33m)\u001b[0m\u001b[1;33m\u001b[0m\u001b[0m\n\u001b[0m",
      "\u001b[1;32m<ipython-input-8-0a1578020dd6>\u001b[0m in \u001b[0;36mnew_pos\u001b[1;34m(chosen_velocity, theta_chosen)\u001b[0m\n\u001b[0;32m      3\u001b[0m     TODO: CHECK FUNCTION IF SENDS CORRECT NEW POSITION\"\"\"\n\u001b[0;32m      4\u001b[0m     \u001b[0mpos\u001b[0m \u001b[1;33m=\u001b[0m \u001b[1;33m(\u001b[0m\u001b[1;36m1\u001b[0m\u001b[1;33m,\u001b[0m\u001b[1;36m1\u001b[0m\u001b[1;33m)\u001b[0m\u001b[1;33m\u001b[0m\u001b[0m\n\u001b[1;32m----> 5\u001b[1;33m     \u001b[0mnew_pos\u001b[0m \u001b[1;33m=\u001b[0m \u001b[1;33m(\u001b[0m\u001b[0mpos\u001b[0m\u001b[1;33m[\u001b[0m\u001b[1;36m0\u001b[0m\u001b[1;33m]\u001b[0m \u001b[1;33m+\u001b[0m \u001b[0mchosen_velocity\u001b[0m\u001b[1;33m*\u001b[0m\u001b[0mnp\u001b[0m\u001b[1;33m.\u001b[0m\u001b[0mcos\u001b[0m\u001b[1;33m(\u001b[0m\u001b[0mmath\u001b[0m\u001b[1;33m.\u001b[0m\u001b[0mradians\u001b[0m\u001b[1;33m(\u001b[0m\u001b[0mtheta_chosen\u001b[0m\u001b[1;33m)\u001b[0m\u001b[1;33m)\u001b[0m\u001b[1;33m,\u001b[0m \u001b[0mpos\u001b[0m\u001b[1;33m[\u001b[0m\u001b[1;36m1\u001b[0m\u001b[1;33m]\u001b[0m\u001b[1;33m+\u001b[0m\u001b[0mchosen_velocity\u001b[0m\u001b[1;33m*\u001b[0m\u001b[0mnp\u001b[0m\u001b[1;33m.\u001b[0m\u001b[0msin\u001b[0m\u001b[1;33m(\u001b[0m\u001b[0mmath\u001b[0m\u001b[1;33m.\u001b[0m\u001b[0mradians\u001b[0m\u001b[1;33m(\u001b[0m\u001b[0mtheta_chosen\u001b[0m\u001b[1;33m)\u001b[0m\u001b[1;33m)\u001b[0m\u001b[1;33m)\u001b[0m\u001b[1;33m\u001b[0m\u001b[0m\n\u001b[0m\u001b[0;32m      6\u001b[0m     \u001b[1;32mreturn\u001b[0m \u001b[0mnew_pos\u001b[0m\u001b[1;33m\u001b[0m\u001b[0m\n\u001b[0;32m      7\u001b[0m \u001b[0mnew_pos\u001b[0m\u001b[1;33m(\u001b[0m\u001b[0mdesired_velocity\u001b[0m\u001b[1;33m,\u001b[0m \u001b[0mtheta_chosen\u001b[0m\u001b[1;33m)\u001b[0m\u001b[1;33m\u001b[0m\u001b[0m\n",
      "\u001b[1;31mNameError\u001b[0m: name 'math' is not defined"
     ]
    }
   ],
   "source": [
    "def new_pos(chosen_velocity, theta_chosen):\n",
    "    \"\"\"\n",
    "    TODO: CHECK FUNCTION IF SENDS CORRECT NEW POSITION\"\"\"\n",
    "    pos = (1,1)\n",
    "    new_pos = (pos[0] + chosen_velocity*np.cos(math.radians(theta_chosen)), pos[1]+chosen_velocity*np.sin(math.radians(theta_chosen)))\n",
    "    return new_pos\n",
    "new_pos(desired_velocity, theta_chosen)"
   ]
  },
  {
   "cell_type": "code",
   "execution_count": 9,
   "metadata": {},
   "outputs": [
    {
     "data": {
      "text/plain": [
       "1.75"
      ]
     },
     "execution_count": 9,
     "metadata": {},
     "output_type": "execute_result"
    }
   ],
   "source": [
    "#Efficiency of target approach\n",
    "def Ek(target_dist):\n",
    "    #Distance of proposed new position to target\n",
    "    R_vision_range = 3\n",
    "    speed_free = 2\n",
    "    return 1 - (target_dist - R_vision_range - speed_free)/(2*speed_free)\n",
    "Ek(2)"
   ]
  },
  {
   "cell_type": "code",
   "execution_count": 10,
   "metadata": {},
   "outputs": [],
   "source": [
    "#Efficiency of target approach\n",
    "def Ek(self, target_dist):\n",
    "    #Distance of proposed new position to target\n",
    "    return 1 - (target_dist - self.R_vision_range - self.speed_free)/(2*self.speed_free)\n"
   ]
  },
  {
   "cell_type": "code",
   "execution_count": 11,
   "metadata": {},
   "outputs": [],
   "source": [
    "#Interaction between pedestrians and obstacles    \n",
    "def Ok(self, dist_nearest_object, vision_length):\n",
    "    #nearest object: min of jordans cone search list?\n",
    "    Ok = distance_to_obj/R_vision_range\n",
    "    return Ok"
   ]
  },
  {
   "cell_type": "code",
   "execution_count": 12,
   "metadata": {},
   "outputs": [
    {
     "ename": "SyntaxError",
     "evalue": "invalid syntax (<ipython-input-12-f2f84f83714d>, line 3)",
     "output_type": "error",
     "traceback": [
      "\u001b[1;36m  File \u001b[1;32m\"<ipython-input-12-f2f84f83714d>\"\u001b[1;36m, line \u001b[1;32m3\u001b[0m\n\u001b[1;33m    return Pk = distance_to_obj/R_vision_range\u001b[0m\n\u001b[1;37m              ^\u001b[0m\n\u001b[1;31mSyntaxError\u001b[0m\u001b[1;31m:\u001b[0m invalid syntax\n"
     ]
    }
   ],
   "source": [
    "#Keep distance from other pedestrians    \n",
    "def Pk(self, d_nearest_pedestrian, vision_length):\n",
    "    return Pk = distance_to_obj/R_vision_range\n"
   ]
  },
  {
   "cell_type": "code",
   "execution_count": 13,
   "metadata": {},
   "outputs": [
    {
     "ename": "SyntaxError",
     "evalue": "invalid syntax (<ipython-input-13-dc09f62484f1>, line 5)",
     "output_type": "error",
     "traceback": [
      "\u001b[1;36m  File \u001b[1;32m\"<ipython-input-13-dc09f62484f1>\"\u001b[1;36m, line \u001b[1;32m5\u001b[0m\n\u001b[1;33m    return Ak = 1 - abs()\u001b[0m\n\u001b[1;37m              ^\u001b[0m\n\u001b[1;31mSyntaxError\u001b[0m\u001b[1;31m:\u001b[0m invalid syntax\n"
     ]
    }
   ],
   "source": [
    "#Avoid future collisions with other pedestrians\n",
    "def Ak(self, proposed_direction, nearest_agent_vector):\n",
    "    #Movement vector of nearest agent\n",
    "    rel_angle_agents = get_heading(proposed_direction, nearest_agent_vector)\n",
    "    return Ak = 1 - abs()\n",
    "    \n",
    "    \n",
    "    1 - abs(rel_angle)/np.pi"
   ]
  },
  {
   "cell_type": "code",
   "execution_count": 14,
   "metadata": {},
   "outputs": [
    {
     "ename": "NameError",
     "evalue": "name 'math' is not defined",
     "output_type": "error",
     "traceback": [
      "\u001b[1;31m---------------------------------------------------------------------------\u001b[0m",
      "\u001b[1;31mNameError\u001b[0m                                 Traceback (most recent call last)",
      "\u001b[1;32m<ipython-input-14-07f623f60d3f>\u001b[0m in \u001b[0;36m<module>\u001b[1;34m()\u001b[0m\n\u001b[0;32m      4\u001b[0m     \u001b[0mnew_pos\u001b[0m \u001b[1;33m=\u001b[0m \u001b[1;33m(\u001b[0m\u001b[0mpos\u001b[0m\u001b[1;33m[\u001b[0m\u001b[1;36m0\u001b[0m\u001b[1;33m]\u001b[0m \u001b[1;33m+\u001b[0m \u001b[0mchosen_velocity\u001b[0m\u001b[1;33m*\u001b[0m\u001b[0mnp\u001b[0m\u001b[1;33m.\u001b[0m\u001b[0mcos\u001b[0m\u001b[1;33m(\u001b[0m\u001b[0mmath\u001b[0m\u001b[1;33m.\u001b[0m\u001b[0mradians\u001b[0m\u001b[1;33m(\u001b[0m\u001b[0mtheta_chosen\u001b[0m\u001b[1;33m)\u001b[0m\u001b[1;33m)\u001b[0m\u001b[1;33m,\u001b[0m \u001b[0mpos\u001b[0m\u001b[1;33m[\u001b[0m\u001b[1;36m1\u001b[0m\u001b[1;33m]\u001b[0m\u001b[1;33m+\u001b[0m\u001b[0mchosen_velocity\u001b[0m\u001b[1;33m*\u001b[0m\u001b[0mnp\u001b[0m\u001b[1;33m.\u001b[0m\u001b[0msin\u001b[0m\u001b[1;33m(\u001b[0m\u001b[0mmath\u001b[0m\u001b[1;33m.\u001b[0m\u001b[0mradians\u001b[0m\u001b[1;33m(\u001b[0m\u001b[0mtheta_chosen\u001b[0m\u001b[1;33m)\u001b[0m\u001b[1;33m)\u001b[0m\u001b[1;33m)\u001b[0m\u001b[1;33m\u001b[0m\u001b[0m\n\u001b[0;32m      5\u001b[0m     \u001b[1;32mreturn\u001b[0m \u001b[0mnew_pos\u001b[0m\u001b[1;33m\u001b[0m\u001b[0m\n\u001b[1;32m----> 6\u001b[1;33m \u001b[0mnew_pos\u001b[0m\u001b[1;33m(\u001b[0m\u001b[1;33m(\u001b[0m\u001b[1;36m1\u001b[0m\u001b[1;33m,\u001b[0m\u001b[1;36m1\u001b[0m\u001b[1;33m)\u001b[0m\u001b[1;33m,\u001b[0m \u001b[1;36m1\u001b[0m\u001b[1;33m,\u001b[0m \u001b[1;33m-\u001b[0m\u001b[1;36m45\u001b[0m\u001b[1;33m)\u001b[0m\u001b[1;33m\u001b[0m\u001b[0m\n\u001b[0m",
      "\u001b[1;32m<ipython-input-14-07f623f60d3f>\u001b[0m in \u001b[0;36mnew_pos\u001b[1;34m(pos, chosen_velocity, theta_chosen)\u001b[0m\n\u001b[0;32m      2\u001b[0m     \"\"\"\n\u001b[0;32m      3\u001b[0m     TODO: CHECK FUNCTION IF SENDS CORRECT NEW POSITION\"\"\"\n\u001b[1;32m----> 4\u001b[1;33m     \u001b[0mnew_pos\u001b[0m \u001b[1;33m=\u001b[0m \u001b[1;33m(\u001b[0m\u001b[0mpos\u001b[0m\u001b[1;33m[\u001b[0m\u001b[1;36m0\u001b[0m\u001b[1;33m]\u001b[0m \u001b[1;33m+\u001b[0m \u001b[0mchosen_velocity\u001b[0m\u001b[1;33m*\u001b[0m\u001b[0mnp\u001b[0m\u001b[1;33m.\u001b[0m\u001b[0mcos\u001b[0m\u001b[1;33m(\u001b[0m\u001b[0mmath\u001b[0m\u001b[1;33m.\u001b[0m\u001b[0mradians\u001b[0m\u001b[1;33m(\u001b[0m\u001b[0mtheta_chosen\u001b[0m\u001b[1;33m)\u001b[0m\u001b[1;33m)\u001b[0m\u001b[1;33m,\u001b[0m \u001b[0mpos\u001b[0m\u001b[1;33m[\u001b[0m\u001b[1;36m1\u001b[0m\u001b[1;33m]\u001b[0m\u001b[1;33m+\u001b[0m\u001b[0mchosen_velocity\u001b[0m\u001b[1;33m*\u001b[0m\u001b[0mnp\u001b[0m\u001b[1;33m.\u001b[0m\u001b[0msin\u001b[0m\u001b[1;33m(\u001b[0m\u001b[0mmath\u001b[0m\u001b[1;33m.\u001b[0m\u001b[0mradians\u001b[0m\u001b[1;33m(\u001b[0m\u001b[0mtheta_chosen\u001b[0m\u001b[1;33m)\u001b[0m\u001b[1;33m)\u001b[0m\u001b[1;33m)\u001b[0m\u001b[1;33m\u001b[0m\u001b[0m\n\u001b[0m\u001b[0;32m      5\u001b[0m     \u001b[1;32mreturn\u001b[0m \u001b[0mnew_pos\u001b[0m\u001b[1;33m\u001b[0m\u001b[0m\n\u001b[0;32m      6\u001b[0m \u001b[0mnew_pos\u001b[0m\u001b[1;33m(\u001b[0m\u001b[1;33m(\u001b[0m\u001b[1;36m1\u001b[0m\u001b[1;33m,\u001b[0m\u001b[1;36m1\u001b[0m\u001b[1;33m)\u001b[0m\u001b[1;33m,\u001b[0m \u001b[1;36m1\u001b[0m\u001b[1;33m,\u001b[0m \u001b[1;33m-\u001b[0m\u001b[1;36m45\u001b[0m\u001b[1;33m)\u001b[0m\u001b[1;33m\u001b[0m\u001b[0m\n",
      "\u001b[1;31mNameError\u001b[0m: name 'math' is not defined"
     ]
    }
   ],
   "source": [
    "def new_pos(pos, chosen_velocity, theta_chosen):\n",
    "    \"\"\"\n",
    "    TODO: CHECK FUNCTION IF SENDS CORRECT NEW POSITION\"\"\"\n",
    "    new_pos = (pos[0] + chosen_velocity*np.cos(math.radians(theta_chosen)), pos[1]+chosen_velocity*np.sin(math.radians(theta_chosen)))\n",
    "    return new_pos\n",
    "new_pos((1,1), 1, -45)"
   ]
  },
  {
   "cell_type": "code",
   "execution_count": 15,
   "metadata": {},
   "outputs": [
    {
     "data": {
      "text/plain": [
       "0.7071067811865476"
      ]
     },
     "execution_count": 15,
     "metadata": {},
     "output_type": "execute_result"
    }
   ],
   "source": [
    ".5*(2)**.5"
   ]
  },
  {
   "cell_type": "code",
   "execution_count": 16,
   "metadata": {},
   "outputs": [
    {
     "name": "stdout",
     "output_type": "stream",
     "text": [
      "5.4 0.0\n",
      "0.49090909090909096 1.3012228056106485\n",
      "0.2571428571428572 1.3388778576084257\n",
      "0.17419354838709677 1.3399675272136937\n",
      "0.13170731707317074 1.3399990602958607\n",
      "0.10588235294117648 1.3399999728066492\n",
      "0.08852459016393444 1.3399999992130733\n",
      "0.07605633802816902 1.3399999999772279\n",
      "0.06666666666666667 1.339999999999341\n",
      "0.059340659340659345 1.339999999999981\n"
     ]
    }
   ],
   "source": [
    "import math\n",
    "vf = 1.34\n",
    "rhomax = 5.4\n",
    "gamma = 1.913\n",
    "rho = .9\n",
    "for i in range(1, 100, 10):\n",
    "    rho = rhomax/i\n",
    "    print(rho, vf*(1-math.exp(-gamma*(1/rho-1/rhomax))))"
   ]
  },
  {
   "cell_type": "code",
   "execution_count": 17,
   "metadata": {},
   "outputs": [
    {
     "ename": "ZeroDivisionError",
     "evalue": "division by zero",
     "output_type": "error",
     "traceback": [
      "\u001b[1;31m---------------------------------------------------------------------------\u001b[0m",
      "\u001b[1;31mZeroDivisionError\u001b[0m                         Traceback (most recent call last)",
      "\u001b[1;32m<ipython-input-17-a71e8bb4d82a>\u001b[0m in \u001b[0;36m<module>\u001b[1;34m()\u001b[0m\n\u001b[0;32m      1\u001b[0m \u001b[0mrho\u001b[0m \u001b[1;33m=\u001b[0m \u001b[1;36m0\u001b[0m\u001b[1;33m\u001b[0m\u001b[0m\n\u001b[1;32m----> 2\u001b[1;33m \u001b[0mvf\u001b[0m\u001b[1;33m*\u001b[0m\u001b[1;33m(\u001b[0m\u001b[1;36m1\u001b[0m\u001b[1;33m-\u001b[0m\u001b[0mmath\u001b[0m\u001b[1;33m.\u001b[0m\u001b[0mexp\u001b[0m\u001b[1;33m(\u001b[0m\u001b[1;33m-\u001b[0m\u001b[0mgamma\u001b[0m\u001b[1;33m*\u001b[0m\u001b[1;33m(\u001b[0m\u001b[1;36m1\u001b[0m\u001b[1;33m/\u001b[0m\u001b[0mrho\u001b[0m\u001b[1;33m-\u001b[0m\u001b[1;36m1\u001b[0m\u001b[1;33m/\u001b[0m\u001b[0mrhomax\u001b[0m\u001b[1;33m)\u001b[0m\u001b[1;33m)\u001b[0m\u001b[1;33m)\u001b[0m\u001b[1;33m\u001b[0m\u001b[0m\n\u001b[0m",
      "\u001b[1;31mZeroDivisionError\u001b[0m: division by zero"
     ]
    }
   ],
   "source": [
    "rho = 0\n",
    "vf*(1-math.exp(-gamma*(1/rho-1/rhomax)))"
   ]
  },
  {
   "cell_type": "code",
   "execution_count": 18,
   "metadata": {},
   "outputs": [
    {
     "data": {
      "text/plain": [
       "<Figure size 640x480 with 1 Axes>"
      ]
     },
     "metadata": {},
     "output_type": "display_data"
    }
   ],
   "source": [
    "import random\n",
    "import matplotlib.pyplot as plt\n",
    "plt.hist([random.gauss(5, 1) for i in range(10000)])\n",
    "plt.show()"
   ]
  },
  {
   "cell_type": "code",
   "execution_count": 27,
   "metadata": {},
   "outputs": [
    {
     "name": "stdout",
     "output_type": "stream",
     "text": [
      "radians 1.0 degrees 1.0\n",
      "radians 0.9333333333333333 degrees -2.819718634205488\n",
      "radians 0.5 degrees -27.64788975654116\n",
      "radians 0.0 degrees -56.29577951308232\n"
     ]
    }
   ],
   "source": [
    "thetas = [0, 12, 90, 180]\n",
    "for theta in thetas:\n",
    "    print('radians', 1-abs(math.radians(theta))/math.pi, 'degrees', (1-abs(theta)/math.pi))"
   ]
  },
  {
   "cell_type": "code",
   "execution_count": 20,
   "metadata": {},
   "outputs": [
    {
     "ename": "TypeError",
     "evalue": "'>' not supported between instances of 'int' and 'NoneType'",
     "output_type": "error",
     "traceback": [
      "\u001b[1;31m---------------------------------------------------------------------------\u001b[0m",
      "\u001b[1;31mTypeError\u001b[0m                                 Traceback (most recent call last)",
      "\u001b[1;32m<ipython-input-20-d0fa247c6e5f>\u001b[0m in \u001b[0;36m<module>\u001b[1;34m()\u001b[0m\n\u001b[1;32m----> 1\u001b[1;33m \u001b[1;32mif\u001b[0m \u001b[1;36m3\u001b[0m \u001b[1;33m>\u001b[0m \u001b[1;32mNone\u001b[0m\u001b[1;33m:\u001b[0m\u001b[1;33m\u001b[0m\u001b[0m\n\u001b[0m\u001b[0;32m      2\u001b[0m     \u001b[0mprint\u001b[0m\u001b[1;33m(\u001b[0m\u001b[1;34m'11'\u001b[0m\u001b[1;33m)\u001b[0m\u001b[1;33m\u001b[0m\u001b[0m\n",
      "\u001b[1;31mTypeError\u001b[0m: '>' not supported between instances of 'int' and 'NoneType'"
     ]
    }
   ],
   "source": [
    "if 3 > None:\n",
    "    print('11')"
   ]
  },
  {
   "cell_type": "code",
   "execution_count": null,
   "metadata": {},
   "outputs": [],
   "source": [
    "def dist_wall(pos, direction):\n",
    "    \"\"\"\n",
    "    Returns True if \n",
    "    \"\"\"\n",
    "    walls_x = [10, 30]\n",
    "    R_vision_range = 5\n",
    "    max_x_pos = pos[0] + R_vision_range*np.cos(math.radians(direction))\n",
    "#     print(max_x_pos)\n",
    "    # If the maximum x position is outside of the walls, return distance\n",
    "    if max_x_pos < walls_x[0]:\n",
    "        return (walls_x[0]-pos[0])/np.cos(math.radians(direction))\n",
    "    elif max_x_pos > walls_x[1]:\n",
    "        return (walls_x[1]-pos[0])/np.cos(math.radians(direction))\n",
    "    else:\n",
    "        return R_vision_range\n",
    "    \n",
    "print([dist_wall([12], 200), dist_wall([12], 160)])\n",
    "print([dist_wall([18], 200), dist_wall([18], 160)])\n",
    "print([dist_wall([28], 340), dist_wall([28], 380), dist_wall([28], 20)])\n",
    "print([dist_wall([28], 90), dist_wall([28], 180), dist_wall([28], 270), dist_wall([28], 360)])\n",
    "print([dist_wall([12], 90), dist_wall([12], 180), dist_wall([12], 270), dist_wall([12], 360)])\n"
   ]
  },
  {
   "cell_type": "code",
   "execution_count": 21,
   "metadata": {},
   "outputs": [
    {
     "data": {
      "text/plain": [
       "(array([ 991.,  992.,  986., 1050.,  935., 1037.,  968.,  994., 1043.,\n",
       "        1004.]),\n",
       " array([20.00145995, 21.00117186, 22.00088377, 23.00059568, 24.00030759,\n",
       "        25.0000195 , 25.99973141, 26.99944331, 27.99915522, 28.99886713,\n",
       "        29.99857904]),\n",
       " <a list of 10 Patch objects>)"
      ]
     },
     "execution_count": 21,
     "metadata": {},
     "output_type": "execute_result"
    },
    {
     "data": {
      "image/png": "[encoded data removed]",
      "text/plain": [
       "<Figure size 432x288 with 1 Axes>"
      ]
     },
     "metadata": {
      "needs_background": "light"
     },
     "output_type": "display_data"
    }
   ],
   "source": [
    "plt.hist([random.uniform(20,30) for i in range(10000)])"
   ]
  },
  {
   "cell_type": "code",
   "execution_count": 22,
   "metadata": {},
   "outputs": [
    {
     "data": {
      "text/plain": [
       "5.0"
      ]
     },
     "execution_count": 22,
     "metadata": {},
     "output_type": "execute_result"
    }
   ],
   "source": [
    "math.sqrt(4**2+3**2)"
   ]
  },
  {
   "cell_type": "code",
   "execution_count": 23,
   "metadata": {},
   "outputs": [
    {
     "name": "stdout",
     "output_type": "stream",
     "text": [
      "x 0.2723931248910011 y 3.9104275004359956 z 3\n"
     ]
    },
    {
     "data": {
      "text/plain": [
       "3.0"
      ]
     },
     "execution_count": 23,
     "metadata": {},
     "output_type": "execute_result"
    }
   ],
   "source": [
    "# pedestrians position\n",
    "pos = [1,1]\n",
    "# Target position\n",
    "targ = [0,5]\n",
    "# Distance in x and y coordinates to the target\n",
    "dist_diff = [targ[0]-pos[0], targ[1]-pos[1]] \n",
    "# Distance to target\n",
    "dist = math.sqrt(dist_diff[0]**2+dist_diff[1]**2)\n",
    "# Vision range\n",
    "proj = 3\n",
    "# Ratio of distance and projection\n",
    "ratio = proj/dist\n",
    "print('x', pos[0]+(ratio*dist_diff[0]), 'y', pos[1]+(ratio*dist_diff[1]), 'z', proj)\n",
    "math.sqrt((ratio*dist_diff[0])**2+(ratio*dist_diff[1])**2)"
   ]
  },
  {
   "cell_type": "code",
   "execution_count": 24,
   "metadata": {},
   "outputs": [],
   "source": [
    "def target_projection():\n",
    "    # CURRENT pedestrians position\n",
    "    #self.pos\n",
    "    pos = [1,2]\n",
    "    # Target position\n",
    "    #self.target_pos\n",
    "    targ = [-3,4]\n",
    "    \n",
    "    # Distance in x and y coordinates to the target\n",
    "    dist_diff = [targ[0]-pos[0], targ[1]-pos[1]] \n",
    "    # Distance to target\n",
    "    dist = math.sqrt(dist_diff[0]**2+dist_diff[1]**2)\n",
    "    \n",
    "    # Vision range\n",
    "    #proj=self.vision_range\n",
    "    proj = 2\n",
    "    # Ratio of distance and projection\n",
    "    ratio = proj/dist\n",
    "    print('x', (ratio*dist_diff[0]), 'y', (ratio*dist_diff[1]), 'z', proj)\n",
    "    math.sqrt((ratio*dist_diff[0])**2+(ratio*dist_diff[1])**2)"
   ]
  },
  {
   "cell_type": "code",
   "execution_count": 25,
   "metadata": {},
   "outputs": [
    {
     "name": "stdout",
     "output_type": "stream",
     "text": [
      "0 8.0\n",
      "1 7.733333333333333\n",
      "2 7.466666666666667\n",
      "3 7.2\n",
      "4 6.933333333333334\n",
      "5 6.666666666666667\n",
      "6 6.4\n",
      "7 6.133333333333333\n",
      "8 5.866666666666667\n",
      "9 5.6\n",
      "10 5.333333333333334\n",
      "11 5.066666666666666\n",
      "12 4.8\n",
      "13 4.533333333333333\n",
      "14 4.266666666666667\n",
      "15 4.0\n",
      "16 3.7333333333333334\n",
      "17 3.466666666666667\n",
      "18 3.2\n",
      "19 2.9333333333333336\n",
      "20 2.666666666666667\n",
      "21 2.4000000000000004\n",
      "22 2.1333333333333337\n",
      "23 1.8666666666666671\n",
      "24 1.5999999999999996\n",
      "25 1.333333333333333\n",
      "26 1.0666666666666664\n",
      "27 0.7999999999999998\n",
      "28 0.5333333333333332\n",
      "29 0.2666666666666666\n",
      "30 0.0\n"
     ]
    }
   ],
   "source": [
    "speed = 8\n",
    "dist = 15\n",
    "decr = 8/2/15\n",
    "for i in range(31):\n",
    "    print(i, speed - decr*i)"
   ]
  },
  {
   "cell_type": "code",
   "execution_count": 26,
   "metadata": {},
   "outputs": [
    {
     "name": "stdout",
     "output_type": "stream",
     "text": [
      "yeey\n"
     ]
    }
   ],
   "source": [
    "x = -160\n",
    "if x%360 <=360 and x%360>=180:\n",
    "    print('yeey')"
   ]
  },
  {
   "cell_type": "code",
   "execution_count": null,
   "metadata": {},
   "outputs": [],
   "source": []
  }
 ],
 "metadata": {
  "kernelspec": {
   "display_name": "Python 3",
   "language": "python",
   "name": "python3"
  },
  "language_info": {
   "codemirror_mode": {
    "name": "ipython",
    "version": 3
   },
   "file_extension": ".py",
   "mimetype": "text/x-python",
   "name": "python",
   "nbconvert_exporter": "python",
   "pygments_lexer": "ipython3",
   "version": "3.6.5"
  }
 },
 "nbformat": 4,
 "nbformat_minor": 2
}
