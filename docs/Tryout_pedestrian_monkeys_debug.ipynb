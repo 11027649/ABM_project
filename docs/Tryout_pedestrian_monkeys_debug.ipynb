{
 "cells": [
  {
   "cell_type": "code",
   "execution_count": 1,
   "metadata": {},
   "outputs": [
    {
     "name": "stdout",
     "output_type": "stream",
     "text": [
      "Everything A-Okay!\n"
     ]
    }
   ],
   "source": [
    "from IPython.display import clear_output\n",
    "!pip install -e git+https://github.com/projectmesa/mesa#egg=mesa\n",
    "import mesa\n",
    "!pip install ipynb\n",
    "import ipynb\n",
    "clear_output(wait=True)\n",
    "print(\"Everything A-Okay!\")"
   ]
  },
  {
   "cell_type": "code",
   "execution_count": 2,
<<<<<<< Updated upstream:Tryout_pedestrian_monkeys_debug.ipynb
   "metadata": {},
   "outputs": [],
   "source": [
    "import numpy as np\n",
    "import math"
   ]
  },
  {
   "cell_type": "code",
   "execution_count": 3,
=======
>>>>>>> Stashed changes:Tryout_pedestrian_monkeys.ipynb
   "metadata": {},
   "outputs": [],
   "source": [
    "from mesa import Model\n",
    "from mesa.space import ContinuousSpace\n",
    "\n",
    "class TestModel(Model):\n",
    "    def __init__(self, width, height):\n",
    "        self.height = width\n",
    "        self.width = height\n",
    "        \n",
    "        # Create continuous space\n",
    "        self.space = ContinuousSpace(self.width, self.height, torus=False, x_min=0, y_min=0)\n",
    "        \n",
    "        self.n_agents = 0\n",
    "        self.agents = []\n",
    "\n",
    "    \n",
    "    def new_agent(self, agent_type, pos):\n",
    "        '''\n",
    "        Method that enables us to add agents of a given type.\n",
    "        '''\n",
    "        self.n_agents += 1\n",
    "        \n",
    "        # Create a new agent of the given type\n",
    "        new_agent = agent_type(self.n_agents, self, pos)\n",
    "        \n",
    "        # Place the agent on the grid\n",
    "        self.space.place_agent(new_agent, pos)\n",
    "        \n",
    "        # And add the agent to the model so we can track it\n",
    "        self.agents.append(new_agent)\n",
    "        \n",
    "    def remove_agent(self, agent):\n",
    "        '''\n",
    "        Method that enables us to remove passed agents.\n",
    "        '''\n",
    "        self.n_agents -= 1\n",
    "        \n",
    "        # Remove agent from grid\n",
    "        self.space.remove_agent(agent)\n",
    "        \n",
    "        # Remove agent from model\n",
    "        self.agents.remove(agent)\n",
    "        \n",
    "    def step(self):\n",
    "        '''\n",
    "        Method that steps every agent. \n",
    "        \n",
    "        Prevents applying step on new agents by creating a local list.\n",
    "        '''\n",
    "        for agent in list(self.agents):\n",
    "            agent.step()"
   ]
  },
  {
   "cell_type": "code",
<<<<<<< Updated upstream:Tryout_pedestrian_monkeys_debug.ipynb
   "execution_count": 122,
=======
   "execution_count": 3,
>>>>>>> Stashed changes:Tryout_pedestrian_monkeys.ipynb
   "metadata": {},
   "outputs": [],
   "source": [
    "from mesa import Agent\n",
    "import random\n",
    "\n",
    "class Monkey(Agent):\n",
    "    def __init__(self, unique_id, model, pos):\n",
    "        super().__init__(unique_id, model)\n",
    "\n",
    "        self.pos = pos\n",
    "#         self.vis_range = 3\n",
    "#         self.vision_angle = 3.14\n",
    "        self.angle = 90\n",
    "\n",
    "    def move(self, new_pos):\n",
    "        '''\n",
    "        This method should get the neighbouring cells (Moore's neighbourhood), select one, and move the agent to this cell.\n",
    "        '''\n",
    "        \n",
    "        # Move agent to the new position\n",
    "        self.model.grid.move_agent(self, new_pos)\n",
    "\n",
    "    def pedestrians_in_field(self, vision_angle, vis_range):\n",
    "        \"\"\"\n",
    "        returns the number of pedestrians in the field\n",
    "        \"\"\"\n",
    "        # Calculate the lower angle and the upper angle\n",
    "        lower_angle = self.angle - (vision_angle / 2)\n",
    "        upper_angle = self.angle + (vision_angle / 2)\n",
    "\n",
    "        # Change the current points to an np array for simplicity\n",
    "        p0 = np.array(self.pos)\n",
    "\n",
    "        # Convert to radians for angle calcuation\n",
    "        u_rads = math.radians(upper_angle)\n",
    "        l_rads = math.radians(lower_angle)\n",
    "\n",
    "        # Calculate the end angles\n",
    "        dx1 = math.cos(l_rads) * vis_range\n",
    "        dy1 = math.sin(l_rads) * vis_range\n",
    "        dx2 = math.cos(u_rads) * vis_range\n",
    "        dy2 = math.sin(u_rads) * vis_range\n",
    "\n",
    "        # Calculate the vectors\n",
    "        v1 = np.array([p0[0] + dx1, p0[1] + dy1])\n",
    "        v2 = np.array([p0[0] + dx2, p0[1] + dy2])\n",
    "        print('v1:', v1, 'v2:', v2)\n",
    "\n",
    "        # Get the current neighbors\n",
    "        neighbours = self.model.space.get_neighbors(self.pos, include_center=False, radius=vis_range)\n",
    "        cone_neigh = []\n",
    "        # Loop to find if neighbor is within the cone\n",
    "        for neigh in neighbours:\n",
    "            v3 = np.array(neigh.pos) - p0\n",
    "            print('neigh.pos:', np.array(neigh.pos), 'v3:',v3)\n",
    "            check1 = round(np.cross(v1, v3) * np.cross(v1, v2), 10)\n",
    "            check2 = round(np.cross(v2, v3) * np.cross(v2, v1), 10)\n",
    "\n",
    "            if (np.cross(v1, v3) * np.cross(v1, v2) >= 0 and np.cross(v2, v3) * np.cross(v2, v1) >= 0 and type(neigh) == Monkey):\n",
    "                print(\"We are in the vis_range\")\n",
    "                print(self.pos)\n",
    "                print(neigh.pos)\n",
    "                cone_neigh.append(neigh)\n",
    "            else:\n",
    "                print(\"We are out of the vis_range\")\n",
    "                print(self.pos)\n",
    "                print(neigh.pos)\n",
    "\n",
    "        return cone_neigh\n"
   ]
  },
  {
   "cell_type": "code",
<<<<<<< Updated upstream:Tryout_pedestrian_monkeys_debug.ipynb
   "execution_count": 123,
   "metadata": {},
   "outputs": [],
   "source": [
    "def test_field(pos_1, pos_2, vision_range):\n",
    "    tester = TestModel(10, 10)\n",
    "\n",
    "    # Create a Monkey\n",
    "    tester.new_agent(Monkey, pos_1)\n",
    "    tester.new_agent(Monkey, pos_2)\n",
    "\n",
    "    # Create a reference, so that we can properly test\n",
    "    Bernard = tester.agents[0]\n",
    "    print(\"Bernard\", Bernard.pos)\n",
    "\n",
    "    Babette = tester.agents[1]\n",
    "    print('Babette', Babette.pos)\n",
    "\n",
    "    # # Move Bernard to a new position\n",
    "    # new_position = (2.2, 1)\n",
    "    # Bernard.move(new_position)\n",
    "    # print(Bernard.pos)\n",
    "    return Bernard.pedestrians_in_field(180, vision_range)\n"
   ]
  },
  {
   "cell_type": "code",
   "execution_count": 125,
=======
   "execution_count": 4,
>>>>>>> Stashed changes:Tryout_pedestrian_monkeys.ipynb
   "metadata": {},
   "outputs": [
    {
     "name": "stdout",
     "output_type": "stream",
     "text": [
      "Bernard (0, 0)\n",
      "Babette (0.7061067811865476, 0.7061067811865476)\n",
      "v1: [1. 0.] v2: [-1.0000000e+00  1.2246468e-16]\n",
      "neigh.pos: [0.70610678 0.70610678] v3: [0.70610678 0.70610678]\n",
      "We are in the vis_range\n",
      "(0, 0)\n",
      "(0.7061067811865476, 0.7061067811865476)\n",
      "\n",
      "Bernard (5, 5)\n",
      "Babette (5.706106781186548, 5.706106781186548)\n",
      "v1: [6. 5.] v2: [4. 5.]\n",
      "neigh.pos: [5.70610678 5.70610678] v3: [0.70610678 0.70610678]\n",
      "We are in the vis_range\n",
      "(5, 5)\n",
      "(5.706106781186548, 5.706106781186548)\n",
      "\n",
      "Bernard (5, 5)\n",
      "Babette (4.293893218813452, 5.706106781186548)\n",
      "v1: [6. 5.] v2: [4. 5.]\n",
      "neigh.pos: [4.29389322 5.70610678] v3: [-0.70610678  0.70610678]\n",
      "We are out of the vis_range\n",
      "(5, 5)\n",
      "(4.293893218813452, 5.706106781186548)\n"
     ]
    },
    {
     "ename": "AssertionError",
     "evalue": "Bernard cannot see Babette! :((",
     "output_type": "error",
     "traceback": [
      "\u001b[1;31m---------------------------------------------------------------------------\u001b[0m",
      "\u001b[1;31mAssertionError\u001b[0m                            Traceback (most recent call last)",
      "\u001b[1;32m<ipython-input-125-45c30d89a0e2>\u001b[0m in \u001b[0;36m<module>\u001b[1;34m()\u001b[0m\n\u001b[0;32m      9\u001b[0m \u001b[0mprint\u001b[0m\u001b[1;33m(\u001b[0m\u001b[1;33m)\u001b[0m\u001b[1;33m\u001b[0m\u001b[0m\n\u001b[0;32m     10\u001b[0m \u001b[1;31m# Check if for bernard at 5,5, he sees babette at 5-1/2*sqrt(2),5+1/2*sqrt(2), which corresponds to radius of 3/4pi\u001b[0m\u001b[1;33m\u001b[0m\u001b[1;33m\u001b[0m\u001b[0m\n\u001b[1;32m---> 11\u001b[1;33m \u001b[1;32massert\u001b[0m \u001b[0mlen\u001b[0m\u001b[1;33m(\u001b[0m\u001b[0mtest_field\u001b[0m\u001b[1;33m(\u001b[0m\u001b[1;33m(\u001b[0m\u001b[1;36m5\u001b[0m\u001b[1;33m,\u001b[0m\u001b[1;36m5\u001b[0m\u001b[1;33m)\u001b[0m\u001b[1;33m,\u001b[0m \u001b[1;33m(\u001b[0m\u001b[1;36m5\u001b[0m\u001b[1;33m-\u001b[0m\u001b[1;33m(\u001b[0m\u001b[1;33m(\u001b[0m\u001b[1;36m2\u001b[0m\u001b[1;33m)\u001b[0m\u001b[1;33m**\u001b[0m\u001b[1;36m.5\u001b[0m\u001b[1;33m/\u001b[0m\u001b[1;36m2\u001b[0m\u001b[1;33m-\u001b[0m\u001b[1;36m.001\u001b[0m\u001b[1;33m)\u001b[0m\u001b[1;33m,\u001b[0m \u001b[1;36m5\u001b[0m\u001b[1;33m+\u001b[0m\u001b[1;33m(\u001b[0m\u001b[1;33m(\u001b[0m\u001b[1;36m2\u001b[0m\u001b[1;33m)\u001b[0m\u001b[1;33m**\u001b[0m\u001b[1;36m.5\u001b[0m\u001b[1;33m/\u001b[0m\u001b[1;36m2\u001b[0m\u001b[1;33m-\u001b[0m\u001b[1;36m.001\u001b[0m\u001b[1;33m)\u001b[0m\u001b[1;33m)\u001b[0m\u001b[1;33m,\u001b[0m \u001b[1;36m1\u001b[0m\u001b[1;33m)\u001b[0m\u001b[1;33m)\u001b[0m\u001b[1;33m>\u001b[0m\u001b[1;36m0\u001b[0m\u001b[1;33m,\u001b[0m \u001b[1;34m'Bernard cannot see Babette! :(('\u001b[0m\u001b[1;33m\u001b[0m\u001b[0m\n\u001b[0m",
      "\u001b[1;31mAssertionError\u001b[0m: Bernard cannot see Babette! :(("
     ]
    }
   ],
   "source": [
    "# VISION FIELD SET AT 180 DEGREES\n",
    "# ASSUMING THE CORRECT MAP\n",
    "# VISION RANGE = 1\n",
    "\n",
    "# Check if for bernard at 0,0, he sees babette at 1/2*sqrt(2),1/2*sqrt(2), which corresponds to radius of 1/4pi\n",
    "assert len(test_field((0,0), ((2)**.5/2-.001, (2)**.5/2-.001), 1))>0, 'Bernard cannot see Babette! :(('\n",
    "print()\n",
    "# Check if for bernard at 5,5, he sees babette at 5+1/2*sqrt(2),5+1/2*sqrt(2), which corresponds to radius of 1/4pi\n",
    "assert len(test_field((5,5), (5+(2)**.5/2-.001, 5+(2)**.5/2-.001), 1))>0, 'Bernard cannot see Babette! :(('\n",
    "\n",
    "print()\n",
    "# Check if for bernard at 5,5, he sees babette at 5-1/2*sqrt(2),5+1/2*sqrt(2), which corresponds to radius of 3/4pi\n",
    "assert len(test_field((5,5), (5-((2)**.5/2-.001), 5+((2)**.5/2-.001)), 1))>0, 'Bernard cannot see Babette! :(('"
   ]
  },
  {
   "cell_type": "code",
   "execution_count": null,
   "metadata": {},
   "outputs": [],
   "source": []
  }
 ],
 "metadata": {
  "kernelspec": {
   "display_name": "Python 3",
   "language": "python",
   "name": "python3"
  },
  "language_info": {
   "codemirror_mode": {
    "name": "ipython",
    "version": 3
   },
   "file_extension": ".py",
   "mimetype": "text/x-python",
   "name": "python",
   "nbconvert_exporter": "python",
   "pygments_lexer": "ipython3",
   "version": "3.6.7"
  }
 },
 "nbformat": 4,
 "nbformat_minor": 2
}
