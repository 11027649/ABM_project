{
 "cells": [
  {
   "cell_type": "markdown",
   "metadata": {
    "nbgrader": {
     "grade": false,
     "grade_id": "cell-c1ea2f446e833778",
     "locked": true,
     "schema_version": 1,
     "solution": false
    }
   },
   "source": [
    "# Sensitivity analysis\n",
    "\n",
    "Sensitivity analysis (SA) studies the uncertainty in the output of a model. It attempts to measure this uncertainty in the output by making small (known) changes in the inputs, in the process identifying which parameter/set of parameters has the greatest influence. This increases understanding of the relationship between input and output, which in turn can help us find errors in the model. Another purpose of SA is model simplification; model inputs that have little to no effect on the output can be fixed to specific values.\n",
    "\n",
    "In this notebook we aim to familiarise you with OFAT and Sobol SA. We will use Mesa's BatchRunner throughout the notebook and Sobol SA will be done through use of [SALib](https://github.com/SALib/SALib).\n",
    "\n",
    "First, we install the package and test if we can import it."
   ]
  },
  {
   "cell_type": "code",
   "execution_count": 36,
   "metadata": {
    "nbgrader": {
     "grade": false,
     "grade_id": "cell-d0df38f0204b7505",
     "locked": true,
     "schema_version": 1,
     "solution": false
    }
   },
   "outputs": [
    {
     "name": "stdout",
     "output_type": "stream",
     "text": [
      "Everything A-Okay!\n"
     ]
    }
   ],
   "source": [
    "from IPython.display import clear_output\n",
    "import SALib\n",
    "clear_output()\n",
    "print(\"Everything A-Okay!\")"
   ]
  },
  {
   "cell_type": "markdown",
   "metadata": {},
   "source": [
    "Now we'll import everything required for this notebook..."
   ]
  },
  {
   "cell_type": "code",
   "execution_count": 37,
   "metadata": {},
   "outputs": [],
   "source": [
    "%matplotlib inline\n",
    "# LIN: dont use?\n",
    "from SALib.sample import saltelli\n",
    "\n",
    "# LIN: our traffic?\n",
    "from model import Traffic\n",
    "# LIN: Peds, cars, lights\n",
    "from agent import Pedestrian, Car\n",
    "\n",
    "from mesa.batchrunner import BatchRunner\n",
    "from SALib.analyze import sobol\n",
    "import pandas as pd\n",
    "import numpy as np\n",
    "import matplotlib.pyplot as plt\n",
    "from itertools import combinations"
   ]
  },
  {
   "cell_type": "markdown",
   "metadata": {},
   "source": [
    "# The model\n",
    "\n",
    "SA is only usefull if we can apply it to something. Instead of having you make another model, we will use a predator-prey model that you are familiar with; the \"wolf-sheep predation model\". Specifically, [the wolf-sheep model provided in the examples provided by Mesa](https://github.com/projectmesa/mesa/tree/master/examples/wolf_sheep). You might recognise parts of it that were used as inspiration for the first notebook.\n",
    "\n",
    "From the description:\n",
    "\n",
    "''A simple ecological model, consisting of three agent types: wolves, sheep, and grass. The wolves and the sheep wander around the grid at random. Wolves and sheep both expend energy moving around, and replenish it by eating. Sheep eat grass, and wolves eat sheep if they end up on the same grid cell.\n",
    "\n",
    "If wolves and sheep have enough energy, they reproduce, creating a new wolf or sheep (in this simplified model, only one parent is needed for reproduction). The grass on each cell regrows at a constant rate. If any wolves and sheep run out of energy, they die.''\n",
    "\n",
    "The model can be found in the folder 'wolf_sheep/'. If you are interested, you can read through the code. You can even use:\n",
    "\n",
    "`mesa runserver`\n",
    "\n",
    "...to view the model in action."
   ]
  },
  {
   "cell_type": "markdown",
   "metadata": {},
   "source": [
    "# OFAT SA\n",
    "One Factor at A Time (OFAT or OFaaT) SA is a method of testing the output variance of inputs one at a time. \n",
    "\n",
    "We will show you how to change only one variable at the time and how to plot the results. The model we use has default parameters for each of the variables, which makes this fairly easy."
   ]
  },
  {
   "cell_type": "code",
   "execution_count": 38,
   "metadata": {},
   "outputs": [
    {
     "name": "stderr",
     "output_type": "stream",
     "text": [
      "0it [00:00, ?it/s]\n"
     ]
    },
    {
     "ename": "TypeError",
     "evalue": "__init__() got an unexpected keyword argument 'R_vision_range'",
     "output_type": "error",
     "traceback": [
      "\u001b[1;31m---------------------------------------------------------------------------\u001b[0m",
      "\u001b[1;31mTypeError\u001b[0m                                 Traceback (most recent call last)",
      "\u001b[1;32m<ipython-input-38-ae27f52cafc4>\u001b[0m in \u001b[0;36m<module>\u001b[1;34m()\u001b[0m\n\u001b[0;32m     35\u001b[0m                         display_progress=True)\n\u001b[0;32m     36\u001b[0m \u001b[1;33m\u001b[0m\u001b[0m\n\u001b[1;32m---> 37\u001b[1;33m     \u001b[0mbatch\u001b[0m\u001b[1;33m.\u001b[0m\u001b[0mrun_all\u001b[0m\u001b[1;33m(\u001b[0m\u001b[1;33m)\u001b[0m\u001b[1;33m\u001b[0m\u001b[0m\n\u001b[0m\u001b[0;32m     38\u001b[0m \u001b[1;33m\u001b[0m\u001b[0m\n\u001b[0;32m     39\u001b[0m     \u001b[0mdata\u001b[0m\u001b[1;33m[\u001b[0m\u001b[0mvar\u001b[0m\u001b[1;33m]\u001b[0m \u001b[1;33m=\u001b[0m \u001b[0mbatch\u001b[0m\u001b[1;33m.\u001b[0m\u001b[0mget_model_vars_dataframe\u001b[0m\u001b[1;33m(\u001b[0m\u001b[1;33m)\u001b[0m\u001b[1;33m\u001b[0m\u001b[0m\n",
      "\u001b[1;32mc:\\users\\linda\\documents\\projects\\abm\\assignments\\final_notebooks\\src\\mesa\\mesa\\batchrunner.py\u001b[0m in \u001b[0;36mrun_all\u001b[1;34m(self)\u001b[0m\n\u001b[0;32m    145\u001b[0m                 \u001b[0mparam_values\u001b[0m \u001b[1;33m=\u001b[0m \u001b[0mall_param_values\u001b[0m\u001b[1;33m[\u001b[0m\u001b[0mi\u001b[0m\u001b[1;33m]\u001b[0m\u001b[1;33m\u001b[0m\u001b[0m\n\u001b[0;32m    146\u001b[0m                 \u001b[1;32mfor\u001b[0m \u001b[0m_\u001b[0m \u001b[1;32min\u001b[0m \u001b[0mrange\u001b[0m\u001b[1;33m(\u001b[0m\u001b[0mself\u001b[0m\u001b[1;33m.\u001b[0m\u001b[0miterations\u001b[0m\u001b[1;33m)\u001b[0m\u001b[1;33m:\u001b[0m\u001b[1;33m\u001b[0m\u001b[0m\n\u001b[1;32m--> 147\u001b[1;33m                     \u001b[0mself\u001b[0m\u001b[1;33m.\u001b[0m\u001b[0mrun_iteration\u001b[0m\u001b[1;33m(\u001b[0m\u001b[0mkwargs\u001b[0m\u001b[1;33m,\u001b[0m \u001b[0mparam_values\u001b[0m\u001b[1;33m,\u001b[0m \u001b[0mnext\u001b[0m\u001b[1;33m(\u001b[0m\u001b[0mrun_count\u001b[0m\u001b[1;33m)\u001b[0m\u001b[1;33m)\u001b[0m\u001b[1;33m\u001b[0m\u001b[0m\n\u001b[0m\u001b[0;32m    148\u001b[0m                     \u001b[0mpbar\u001b[0m\u001b[1;33m.\u001b[0m\u001b[0mupdate\u001b[0m\u001b[1;33m(\u001b[0m\u001b[1;33m)\u001b[0m\u001b[1;33m\u001b[0m\u001b[0m\n\u001b[0;32m    149\u001b[0m \u001b[1;33m\u001b[0m\u001b[0m\n",
      "\u001b[1;32mc:\\users\\linda\\documents\\projects\\abm\\assignments\\final_notebooks\\src\\mesa\\mesa\\batchrunner.py\u001b[0m in \u001b[0;36mrun_iteration\u001b[1;34m(self, kwargs, param_values, run_count)\u001b[0m\n\u001b[0;32m    150\u001b[0m     \u001b[1;32mdef\u001b[0m \u001b[0mrun_iteration\u001b[0m\u001b[1;33m(\u001b[0m\u001b[0mself\u001b[0m\u001b[1;33m,\u001b[0m \u001b[0mkwargs\u001b[0m\u001b[1;33m,\u001b[0m \u001b[0mparam_values\u001b[0m\u001b[1;33m,\u001b[0m \u001b[0mrun_count\u001b[0m\u001b[1;33m)\u001b[0m\u001b[1;33m:\u001b[0m\u001b[1;33m\u001b[0m\u001b[0m\n\u001b[0;32m    151\u001b[0m         \u001b[0mkwargscopy\u001b[0m \u001b[1;33m=\u001b[0m \u001b[0mcopy\u001b[0m\u001b[1;33m.\u001b[0m\u001b[0mdeepcopy\u001b[0m\u001b[1;33m(\u001b[0m\u001b[0mkwargs\u001b[0m\u001b[1;33m)\u001b[0m\u001b[1;33m\u001b[0m\u001b[0m\n\u001b[1;32m--> 152\u001b[1;33m         \u001b[0mmodel\u001b[0m \u001b[1;33m=\u001b[0m \u001b[0mself\u001b[0m\u001b[1;33m.\u001b[0m\u001b[0mmodel_cls\u001b[0m\u001b[1;33m(\u001b[0m\u001b[1;33m**\u001b[0m\u001b[0mkwargscopy\u001b[0m\u001b[1;33m)\u001b[0m\u001b[1;33m\u001b[0m\u001b[0m\n\u001b[0m\u001b[0;32m    153\u001b[0m         \u001b[0mself\u001b[0m\u001b[1;33m.\u001b[0m\u001b[0mrun_model\u001b[0m\u001b[1;33m(\u001b[0m\u001b[0mmodel\u001b[0m\u001b[1;33m)\u001b[0m\u001b[1;33m\u001b[0m\u001b[0m\n\u001b[0;32m    154\u001b[0m \u001b[1;33m\u001b[0m\u001b[0m\n",
      "\u001b[1;31mTypeError\u001b[0m: __init__() got an unexpected keyword argument 'R_vision_range'"
     ]
    }
   ],
   "source": [
    "# We define our variables and bounds\n",
    "problem = {\n",
    "    'num_vars': 3,\n",
    "    'names': ['R_vision_range'],\n",
    "    'bounds': [[1,5]]\n",
    "}\n",
    "\n",
    "# Set the repetitions, the amount of steps, and the amount of distinct values per variable\n",
    "replicates = 2\n",
    "max_steps = 20\n",
    "distinct_samples = 5 \n",
    "\n",
    "# Set the outputs\n",
    "# LIN: Input of datacollector\n",
    "model_reporters = {\"Pedestrians\": lambda m: self.schedule_Pedestrian.get_agent_count(),\n",
    "              \"Cars\": lambda m: self.schedule_Car.get_agent_count()}\n",
    "        \n",
    "data = {}\n",
    "\n",
    "for i, var in enumerate(problem['names']):\n",
    "    # Get the bounds for this variable and get <distinct_samples> samples within this space (uniform)\n",
    "    # LIN: get uniformly space values for this var\n",
    "    samples = np.linspace(*problem['bounds'][i], num=distinct_samples)\n",
    "\n",
    "#     # Keep in mind that wolf_gain_from_food should be integers. You will have to change\n",
    "#     # your code to acommidate for this or sample in such a way that you only get integers.\n",
    "#     if var == 'N':\n",
    "#         samples = np.linspace(*problem['bounds'][i], num=distinct_samples, dtype=int)\n",
    "    \n",
    "    batch = BatchRunner(Traffic, \n",
    "                        max_steps=max_steps,\n",
    "                        iterations=replicates,\n",
    "                        variable_parameters={var: samples},\n",
    "                        model_reporters=model_reporters,\n",
    "                        display_progress=True)\n",
    "    \n",
    "    batch.run_all()\n",
    "    \n",
    "    data[var] = batch.get_model_vars_dataframe()\n",
    "    "
   ]
  },
  {
   "cell_type": "markdown",
   "metadata": {},
   "source": [
    "Now that we have the data, we can plot it! First show the influence of the variable on sheep, then on wolves."
   ]
  },
  {
   "cell_type": "code",
   "execution_count": 39,
   "metadata": {},
   "outputs": [
    {
     "ename": "KeyError",
     "evalue": "'R_vision_range'",
     "output_type": "error",
     "traceback": [
      "\u001b[1;31m---------------------------------------------------------------------------\u001b[0m",
      "\u001b[1;31mKeyError\u001b[0m                                  Traceback (most recent call last)",
      "\u001b[1;32m<ipython-input-39-ae221230e24b>\u001b[0m in \u001b[0;36m<module>\u001b[1;34m()\u001b[0m\n\u001b[0;32m     37\u001b[0m \u001b[1;33m\u001b[0m\u001b[0m\n\u001b[0;32m     38\u001b[0m \u001b[1;32mfor\u001b[0m \u001b[0mparam\u001b[0m \u001b[1;32min\u001b[0m \u001b[1;33m(\u001b[0m\u001b[1;34m'Sheep'\u001b[0m\u001b[1;33m,\u001b[0m \u001b[1;34m'Wolves'\u001b[0m\u001b[1;33m)\u001b[0m\u001b[1;33m:\u001b[0m\u001b[1;33m\u001b[0m\u001b[0m\n\u001b[1;32m---> 39\u001b[1;33m     \u001b[0mplot_all_vars\u001b[0m\u001b[1;33m(\u001b[0m\u001b[0mdata\u001b[0m\u001b[1;33m,\u001b[0m \u001b[0mparam\u001b[0m\u001b[1;33m)\u001b[0m\u001b[1;33m\u001b[0m\u001b[0m\n\u001b[0m\u001b[0;32m     40\u001b[0m     \u001b[0mplt\u001b[0m\u001b[1;33m.\u001b[0m\u001b[0mshow\u001b[0m\u001b[1;33m(\u001b[0m\u001b[1;33m)\u001b[0m\u001b[1;33m\u001b[0m\u001b[0m\n",
      "\u001b[1;32m<ipython-input-39-ae221230e24b>\u001b[0m in \u001b[0;36mplot_all_vars\u001b[1;34m(df, param)\u001b[0m\n\u001b[0;32m     34\u001b[0m \u001b[1;33m\u001b[0m\u001b[0m\n\u001b[0;32m     35\u001b[0m     \u001b[1;32mfor\u001b[0m \u001b[0mi\u001b[0m\u001b[1;33m,\u001b[0m \u001b[0mvar\u001b[0m \u001b[1;32min\u001b[0m \u001b[0menumerate\u001b[0m\u001b[1;33m(\u001b[0m\u001b[0mproblem\u001b[0m\u001b[1;33m[\u001b[0m\u001b[1;34m'names'\u001b[0m\u001b[1;33m]\u001b[0m\u001b[1;33m)\u001b[0m\u001b[1;33m:\u001b[0m\u001b[1;33m\u001b[0m\u001b[0m\n\u001b[1;32m---> 36\u001b[1;33m         \u001b[0mplot_param_var_conf\u001b[0m\u001b[1;33m(\u001b[0m\u001b[0maxs\u001b[0m\u001b[1;33m[\u001b[0m\u001b[0mi\u001b[0m\u001b[1;33m]\u001b[0m\u001b[1;33m,\u001b[0m \u001b[0mdata\u001b[0m\u001b[1;33m[\u001b[0m\u001b[0mvar\u001b[0m\u001b[1;33m]\u001b[0m\u001b[1;33m,\u001b[0m \u001b[0mvar\u001b[0m\u001b[1;33m,\u001b[0m \u001b[0mparam\u001b[0m\u001b[1;33m,\u001b[0m \u001b[0mi\u001b[0m\u001b[1;33m)\u001b[0m\u001b[1;33m\u001b[0m\u001b[0m\n\u001b[0m\u001b[0;32m     37\u001b[0m \u001b[1;33m\u001b[0m\u001b[0m\n\u001b[0;32m     38\u001b[0m \u001b[1;32mfor\u001b[0m \u001b[0mparam\u001b[0m \u001b[1;32min\u001b[0m \u001b[1;33m(\u001b[0m\u001b[1;34m'Sheep'\u001b[0m\u001b[1;33m,\u001b[0m \u001b[1;34m'Wolves'\u001b[0m\u001b[1;33m)\u001b[0m\u001b[1;33m:\u001b[0m\u001b[1;33m\u001b[0m\u001b[0m\n",
      "\u001b[1;31mKeyError\u001b[0m: 'R_vision_range'"
     ]
    },
    {
     "data": {
      "image/png": "[encoded data removed]",
      "text/plain": [
       "<Figure size 504x720 with 3 Axes>"
      ]
     },
     "metadata": {
      "needs_background": "light"
     },
     "output_type": "display_data"
    }
   ],
   "source": [
    "def plot_param_var_conf(ax, df, var, param, i):\n",
    "    \"\"\"\n",
    "    Helper function for plot_all_vars. Plots the individual parameter vs\n",
    "    variables passed.\n",
    "\n",
    "    Args:\n",
    "        ax: the axis to plot to\n",
    "        df: dataframe that holds the data to be plotted\n",
    "        var: variables to be taken from the dataframe\n",
    "        param: which output variable to plot\n",
    "    \"\"\"\n",
    "    x = df.groupby(var).mean().reset_index()[var]\n",
    "    y = df.groupby(var).mean()[param]\n",
    "\n",
    "    replicates = df.groupby(var)[param].count()\n",
    "    err = (1.96 * df.groupby(var)[param].std()) / np.sqrt(replicates)\n",
    "\n",
    "    ax.plot(x, y, c='k')\n",
    "    ax.fill_between(x, y - err, y + err)\n",
    "\n",
    "    ax.set_xlabel(var)\n",
    "    ax.set_ylabel(param)\n",
    "\n",
    "def plot_all_vars(df, param):\n",
    "    \"\"\"\n",
    "    Plots the parameters passed vs each of the output variables.\n",
    "\n",
    "    Args:\n",
    "        df: dataframe that holds all data\n",
    "        param: the parameter to be plotted\n",
    "    \"\"\"\n",
    "\n",
    "    f, axs = plt.subplots(3, figsize=(7, 10))\n",
    "    \n",
    "    for i, var in enumerate(problem['names']):\n",
    "        plot_param_var_conf(axs[i], data[var], var, param, i)\n",
    "\n",
    "for param in ('Sheep', 'Wolves'):\n",
    "    plot_all_vars(data, param)\n",
    "    plt.show()"
   ]
  },
  {
   "cell_type": "markdown",
   "metadata": {},
   "source": [
    "# Sobol SA\n",
    "\n",
    "Sobol Sensitivity Analysis ([Sobol 2001](http://www.sciencedirect.com/science/article/pii/S0378475400002706), [Saltelli 2002](http://www.sciencedirect.com/science/article/pii/S0010465502002801), [Saltelli et al. 2010](http://www.sciencedirect.com/science/article/pii/S0010465509003087)) is a global SA method that determines the contribution of each input parameter or a combination of parameters and their interaction to the overall output variance. OFAT, while it is easier to implement (and certainly is less thought-intensive), has a couple of downsides.\n",
    "\n",
    "1. OFAT requires a large amount of runs to get accurate results\n",
    "2. OFAT cannot estimate interactions of combinations of inputs\n",
    "3. OFAT can miss optimal settings of factors\n",
    "\n",
    "Sobol can find higher order interactions, but still requires a large amount of runs.\n",
    "\n",
    "### Getting the data\n",
    "\n",
    "Before we can start analysing the model, we will have to sample our data. There are multiple methods for sampling included in SALib, but since we're using Sobol, we will use Saltelli sampling for this. \n",
    "\n",
    "The following code shows how you could collect data for the \"wolf-sheep\" model."
   ]
  },
  {
   "cell_type": "code",
   "execution_count": 40,
   "metadata": {},
   "outputs": [
    {
     "name": "stdout",
     "output_type": "stream",
     "text": [
      "8 1 [[1.87890625 1.38671875 3.07421875]\n",
      " [3.70703125 1.38671875 3.07421875]\n",
      " [1.87890625 2.12109375 3.07421875]\n",
      " [1.87890625 1.38671875 4.62890625]\n",
      " [1.87890625 2.12109375 4.62890625]\n",
      " [3.70703125 1.38671875 4.62890625]\n",
      " [3.70703125 2.12109375 3.07421875]\n",
      " [3.70703125 2.12109375 4.62890625]]\n"
     ]
    }
   ],
   "source": [
    "# Set the repetitions, the amount of steps, and the amount of distinct values per variable\n",
    "replicates = 2\n",
    "# max_steps = 5\n",
    "distinct_samples = 1\n",
    "\n",
    "# We get all our samples here\n",
    "param_values = saltelli.sample(problem, distinct_samples)\n",
    "print(len(param_values),len(problem['bounds']), param_values)"
   ]
  },
  {
   "cell_type": "code",
   "execution_count": 18,
   "metadata": {
    "nbgrader": {
     "grade": false,
     "grade_id": "cell-68257ab63602b895",
     "locked": true,
     "schema_version": 1,
     "solution": false
    }
   },
   "outputs": [
    {
     "name": "stdout",
     "output_type": "stream",
     "text": [
      "100.00% done\n"
     ]
    }
   ],
   "source": [
    "# # Set the repetitions, the amount of steps, and the amount of distinct values per variable\n",
    "# replicates = 2\n",
    "# max_steps = 10\n",
    "# distinct_samples = 5\n",
    "\n",
    "# # We get all our samples here\n",
    "# param_values = saltelli.sample(problem, distinct_samples)\n",
    "# print(param_values)\n",
    "# # READ NOTE BELOW CODE\n",
    "# batch = BatchRunner(WolfSheep, \n",
    "#                     max_steps=max_steps,\n",
    "#                     variable_parameters={name:[] for name in problem['names']},\n",
    "#                     model_reporters=model_reporters)\n",
    "\n",
    "count = 0\n",
    "for i in range(replicates):\n",
    "    for vals in param_values: \n",
    "        # Change parameters that should be integers\n",
    "        vals = list(vals)\n",
    "        vals[2] = int(vals[2])\n",
    "\n",
    "        # Transform to dict with parameter names and their values\n",
    "        variable_parameters = {}\n",
    "        for name, val in zip(problem['names'], vals):\n",
    "            variable_parameters[name] = val\n",
    "\n",
    "        batch.run_iteration(variable_parameters, tuple(vals), count)\n",
    "        count += 1\n",
    "\n",
    "        clear_output()\n",
    "        print(f'{count / (len(param_values) * (replicates)) * 100:.2f}% done')\n",
    "    \n",
    "data = batch.get_model_vars_dataframe()"
   ]
  },
  {
   "cell_type": "markdown",
   "metadata": {
    "nbgrader": {
     "grade": false,
     "grade_id": "cell-db4a4903984a0d77",
     "locked": true,
     "schema_version": 1,
     "solution": false
    }
   },
   "source": [
    "Note that even though we use the BatchRunner provided by Mesa, we do not use its full capabilities. Normally, you would set all parameters properly (at line 25) and then run the batchrunner with `batch.run_all()`. However, the batchrunner will then proceed to run every possible combination of the variables you have passed it. We already have the combinations (samples) we need, because we got those from SALib.\n",
    "\n",
    "Preferably, you would want to save the results as a csv so you can load them more easily when analysing your results. \n",
    "\n",
    "Printing the data shows (a part of) our results:"
   ]
  },
  {
   "cell_type": "code",
   "execution_count": 19,
   "metadata": {},
   "outputs": [
    {
     "name": "stdout",
     "output_type": "stream",
     "text": [
      "    sheep_reproduce  wolf_reproduce  wolf_gain_from_food  Run  Sheep  Wolves\n",
      "0          0.029775        0.018701                   25    0     44      71\n",
      "1          0.070908        0.018701                   25    1     71      53\n",
      "2          0.029775        0.035225                   25    2     56      56\n",
      "3          0.029775        0.018701                   37    3     42      55\n",
      "4          0.029775        0.035225                   37    4     40      64\n",
      "5          0.070908        0.018701                   37    5     71      56\n",
      "6          0.070908        0.035225                   25    6     79      72\n",
      "7          0.070908        0.035225                   37    7     77      61\n",
      "8          0.074775        0.063701                   10    8     86      49\n",
      "9          0.025908        0.063701                   10    9     63      44\n",
      "10         0.074775        0.080225                   10   10     75      70\n",
      "11         0.074775        0.063701                   22   11     93      66\n",
      "12         0.074775        0.080225                   22   12     46      99\n",
      "13         0.025908        0.063701                   22   13     47      84\n",
      "14         0.025908        0.080225                   10   14     43      68\n",
      "15         0.025908        0.080225                   22   15     33      88\n",
      "16         0.097275        0.041201                   33   16    101      68\n",
      "17         0.093408        0.041201                   33   17    103      64\n",
      "18         0.097275        0.057725                   33   18     87      84\n",
      "19         0.097275        0.041201                   14   19     89      60\n",
      "20         0.097275        0.057725                   14   20     96      60\n",
      "21         0.093408        0.041201                   14   21    100      56\n",
      "22         0.093408        0.057725                   33   22     79     102\n",
      "23         0.093408        0.057725                   14   23     85      77\n",
      "24         0.052275        0.086201                   18   24     42      98\n",
      "25         0.048408        0.086201                   18   25     55      81\n",
      "26         0.052275        0.012725                   18   26     77      40\n",
      "27         0.052275        0.086201                   29   27     46      85\n",
      "28         0.052275        0.012725                   29   28     82      50\n",
      "29         0.048408        0.086201                   29   29     57     115\n",
      "..              ...             ...                  ...  ...    ...     ...\n",
      "50         0.074775        0.080225                   10   50     83      67\n",
      "51         0.074775        0.063701                   22   51     78      80\n",
      "52         0.074775        0.080225                   22   52     50      95\n",
      "53         0.025908        0.063701                   22   53     32      98\n",
      "54         0.025908        0.080225                   10   54     42      54\n",
      "55         0.025908        0.080225                   22   55     34      83\n",
      "56         0.097275        0.041201                   33   56     78      68\n",
      "57         0.093408        0.041201                   33   57     77      75\n",
      "58         0.097275        0.057725                   33   58     77      78\n",
      "59         0.097275        0.041201                   14   59     96      60\n",
      "60         0.097275        0.057725                   14   60     88      67\n",
      "61         0.093408        0.041201                   14   61    114      58\n",
      "62         0.093408        0.057725                   33   62    107      74\n",
      "63         0.093408        0.057725                   14   63     80      75\n",
      "64         0.052275        0.086201                   18   64     51      85\n",
      "65         0.048408        0.086201                   18   65     34      90\n",
      "66         0.052275        0.012725                   18   66     75      47\n",
      "67         0.052275        0.086201                   29   67     43     105\n",
      "68         0.052275        0.012725                   29   68     77      49\n",
      "69         0.048408        0.086201                   29   69     44     113\n",
      "70         0.048408        0.012725                   18   70     65      48\n",
      "71         0.048408        0.012725                   29   71     73      49\n",
      "72         0.041025        0.052451                   14   72     68      70\n",
      "73         0.037158        0.052451                   14   73     54      81\n",
      "74         0.041025        0.023975                   14   74     59      44\n",
      "75         0.041025        0.052451                   33   75     54      78\n",
      "76         0.041025        0.023975                   33   76     58      59\n",
      "77         0.037158        0.052451                   33   77     48      64\n",
      "78         0.037158        0.023975                   14   78     62      53\n",
      "79         0.037158        0.023975                   33   79     64      58\n",
      "\n",
      "[80 rows x 6 columns]\n"
     ]
    }
   ],
   "source": [
    "print(data)"
   ]
  },
  {
   "cell_type": "markdown",
   "metadata": {},
   "source": [
    "As you can see we have 800 distinct results. One sample from saltelli-sampling results in $2^3=8$ different combinations. (We have 3 variables, and we take 2 distinct values per sample per variable. For more details, take a look at [Saltelli et al. 2010](http://www.sciencedirect.com/science/article/pii/S0010465509003087)). Since we take 10 samples, we get 80 combinations. We repeat each of these combinations 10 times, resulting in 800 results.\n",
    "\n",
    "We only consider 2 outputs in this example; the amount of sheep and wolves at the end of the simulation. Can you think of more outputs?"
   ]
  },
  {
   "cell_type": "markdown",
   "metadata": {},
   "source": [
    "### Analyzing\n",
    "\n",
    "Now we can use the `analyze()` method provided by SALib that performs Sobol analysis. "
   ]
  },
  {
   "cell_type": "code",
   "execution_count": 24,
   "metadata": {},
   "outputs": [
    {
     "name": "stderr",
     "output_type": "stream",
     "text": [
      "C:\\Users\\linda\\Anaconda3\\lib\\site-packages\\ipykernel_launcher.py:1: FutureWarning: Method .as_matrix will be removed in a future version. Use .values instead.\n",
      "  \"\"\"Entry point for launching an IPython kernel.\n"
     ]
    },
    {
     "data": {
      "text/plain": [
       "44"
      ]
     },
     "execution_count": 24,
     "metadata": {},
     "output_type": "execute_result"
    }
   ],
   "source": [
    "data['Sheep'].as_matrix()[0]"
   ]
  },
  {
   "cell_type": "code",
   "execution_count": 28,
   "metadata": {
    "nbgrader": {
     "grade": false,
     "grade_id": "cell-45ea4199ae821e7f",
     "locked": true,
     "schema_version": 1,
     "solution": false
    }
   },
   "outputs": [
    {
     "name": "stderr",
     "output_type": "stream",
     "text": [
      "C:\\Users\\linda\\Anaconda3\\lib\\site-packages\\ipykernel_launcher.py:1: FutureWarning: Method .as_matrix will be removed in a future version. Use .values instead.\n",
      "  \"\"\"Entry point for launching an IPython kernel.\n"
     ]
    },
    {
     "name": "stdout",
     "output_type": "stream",
     "text": [
      "Parameter S1 S1_conf ST ST_conf\n",
      "sheep_reproduce 0.919373 0.903177 0.760311 0.563284\n",
      "wolf_reproduce 0.105117 0.332134 0.308125 0.478759\n",
      "wolf_gain_from_food -0.013221 0.226265 0.105605 0.107061\n",
      "\n",
      "Parameter_1 Parameter_2 S2 S2_conf\n",
      "sheep_reproduce wolf_reproduce -0.453769 0.894654\n",
      "sheep_reproduce wolf_gain_from_food -0.356855 0.785090\n",
      "wolf_reproduce wolf_gain_from_food 0.602420 0.726863\n"
     ]
    },
    {
     "name": "stderr",
     "output_type": "stream",
     "text": [
      "C:\\Users\\linda\\Anaconda3\\lib\\site-packages\\ipykernel_launcher.py:2: FutureWarning: Method .as_matrix will be removed in a future version. Use .values instead.\n",
      "  \n"
     ]
    },
    {
     "name": "stdout",
     "output_type": "stream",
     "text": [
      "Parameter S1 S1_conf ST ST_conf\n",
      "sheep_reproduce 0.045755 0.482780 0.277480 0.365478\n",
      "wolf_reproduce 1.611496 0.774659 2.137490 1.339290\n",
      "wolf_gain_from_food 0.157068 1.021038 0.609750 0.576703\n",
      "\n",
      "Parameter_1 Parameter_2 S2 S2_conf\n",
      "sheep_reproduce wolf_reproduce -0.136305 0.979334\n",
      "sheep_reproduce wolf_gain_from_food -0.010061 0.732716\n",
      "wolf_reproduce wolf_gain_from_food 1.127285 2.268114\n"
     ]
    }
   ],
   "source": [
    "Si_sheep = sobol.analyze(problem, data['Sheep'].as_matrix(), print_to_console=True)\n",
    "Si_wolves = sobol.analyze(problem, data['Wolves'].as_matrix(), print_to_console=True)"
   ]
  },
  {
   "cell_type": "markdown",
   "metadata": {},
   "source": [
    "This is not very insightfull. Let's make a function that can plot this."
   ]
  },
  {
   "cell_type": "code",
   "execution_count": 29,
   "metadata": {},
   "outputs": [],
   "source": [
    "def plot_index(s, params, i, title=''):\n",
    "    \"\"\"\n",
    "    Creates a plot for Sobol sensitivity analysis that shows the contributions\n",
    "    of each parameter to the global sensitivity.\n",
    "\n",
    "    Args:\n",
    "        s (dict): dictionary {'S#': dict, 'S#_conf': dict} of dicts that hold\n",
    "            the values for a set of parameters\n",
    "        params (list): the parameters taken from s\n",
    "        i (str): string that indicates what order the sensitivity is.\n",
    "        title (str): title for the plot\n",
    "    \"\"\"\n",
    "\n",
    "    if i == '2':\n",
    "        p = len(params)\n",
    "        params = list(combinations(params, 2))\n",
    "        indices = s['S' + i].reshape((p ** 2))\n",
    "        indices = indices[~np.isnan(indices)]\n",
    "        errors = s['S' + i + '_conf'].reshape((p ** 2))\n",
    "        errors = errors[~np.isnan(errors)]\n",
    "    else:\n",
    "        indices = s['S' + i]\n",
    "        errors = s['S' + i + '_conf']\n",
    "        plt.figure()\n",
    "\n",
    "    l = len(indices)\n",
    "\n",
    "    plt.title(title)\n",
    "    plt.ylim([-0.2, len(indices) - 1 + 0.2])\n",
    "    plt.yticks(range(l), params)\n",
    "    plt.errorbar(indices, range(l), xerr=errors, linestyle='None', marker='o')\n",
    "    plt.axvline(0, c='k')"
   ]
  },
  {
   "cell_type": "markdown",
   "metadata": {},
   "source": [
    "We'll first plot 1st, 2nd, and total-order sensitivity for the output variable 'Sheep', then for 'Wolves'. "
   ]
  },
  {
   "cell_type": "code",
   "execution_count": 30,
   "metadata": {},
   "outputs": [
    {
     "data": {
      "image/png": "[encoded data removed]",
      "text/plain": [
       "<Figure size 432x288 with 1 Axes>"
      ]
     },
     "metadata": {
      "needs_background": "light"
     },
     "output_type": "display_data"
    },
    {
     "data": {
      "image/png": "[encoded data removed]",
      "text/plain": [
       "<Figure size 432x288 with 1 Axes>"
      ]
     },
     "metadata": {
      "needs_background": "light"
     },
     "output_type": "display_data"
    },
    {
     "data": {
      "image/png": "[encoded data removed]",
      "text/plain": [
       "<Figure size 432x288 with 1 Axes>"
      ]
     },
     "metadata": {
      "needs_background": "light"
     },
     "output_type": "display_data"
    },
    {
     "name": "stdout",
     "output_type": "stream",
     "text": [
      "new\n"
     ]
    },
    {
     "data": {
      "image/png": "[encoded data removed]",
      "text/plain": [
       "<Figure size 432x288 with 1 Axes>"
      ]
     },
     "metadata": {
      "needs_background": "light"
     },
     "output_type": "display_data"
    },
    {
     "data": {
      "image/png": "[encoded data removed]",
      "text/plain": [
       "<Figure size 432x288 with 1 Axes>"
      ]
     },
     "metadata": {
      "needs_background": "light"
     },
     "output_type": "display_data"
    },
    {
     "data": {
      "image/png": "[encoded data removed]",
      "text/plain": [
       "<Figure size 432x288 with 1 Axes>"
      ]
     },
     "metadata": {
      "needs_background": "light"
     },
     "output_type": "display_data"
    },
    {
     "name": "stdout",
     "output_type": "stream",
     "text": [
      "new\n"
     ]
    }
   ],
   "source": [
    "for Si in (Si_sheep, Si_wolves):\n",
    "    # First order\n",
    "    plot_index(Si, problem['names'], '1', 'First order sensitivity')\n",
    "    plt.show()\n",
    "\n",
    "    # Second order\n",
    "    plot_index(Si, problem['names'], '2', 'Second order sensitivity')\n",
    "    plt.show()\n",
    "\n",
    "    # Total order\n",
    "    plot_index(Si, problem['names'], 'T', 'Total order sensitivity')\n",
    "    plt.show()\n",
    "    print('new')"
   ]
  },
  {
   "cell_type": "code",
   "execution_count": 9,
   "metadata": {},
   "outputs": [
    {
     "name": "stdout",
     "output_type": "stream",
     "text": [
      "a 2\n",
      "b 12\n"
     ]
    }
   ],
   "source": [
    "def try_func(a=2, b=3):\n",
    "    print('a', a)\n",
    "    print('b', b)\n",
    "def tryout(aa):\n",
    "    try_func()\n",
    "\n",
    "bb = [2, 12]\n",
    "try_func(*bb)"
   ]
  },
  {
   "cell_type": "code",
   "execution_count": 33,
   "metadata": {},
   "outputs": [
    {
     "name": "stdout",
     "output_type": "stream",
     "text": [
      "18 38\n"
     ]
    }
   ],
   "source": [
    "# Set the repetitions, the amount of steps, and the amount of distinct values per variable\n",
    "replicates = 2\n",
    "max_steps = 20\n",
    "distinct_samples = 1 \n",
    "bounds = [[120, 220], # vision_angle, smaller?\n",
    "          [2,20], #N, smaller?\n",
    "          [2,6],# vision range in meters\n",
    "          [.5, 1.5],# Ek\n",
    "          [.1, .9], #Ok\n",
    "          [.1, .9], #Pk\n",
    "          [.1,.9], #Ak\n",
    "          [.1,.9], #Ik\n",
    "          [.1,.16], #speed mean\n",
    "          [.03, .04], # speeds sd,\n",
    "          [.8, 1], # gamma\n",
    "          [4, 7], # max density\n",
    "          [.1, .9], # crossing mean\n",
    "          [.05, .25], #crossing sd\n",
    "          [10,60], #max peds\n",
    "          [1,10], #max_cars\n",
    "          [.001, .2], #spawn rate car\n",
    "          [.001, .2]] #spawn rate peds\n",
    "\n",
    "# We define our variables and bounds\n",
    "problem = {\n",
    "    'num_vars': len(bounds),\n",
    "    'names': [\"vision_angle\", \"N\", \"vision_range\",\n",
    "        \"Ek_w\", \"Ok_w\", \"Pk_w\", \"Ak_w\", \"Ik_w\",\n",
    "        \"speed_mean\", \"speed_sd\", \"gamma\", \"max_density\",\n",
    "        \"crossing_mean\", \"crossing_sd\", \"max_peds\", \"max_cars\", \"spawn_rate_car\", \"spawn_rate_pedes\"],\n",
    "    'bounds': bounds\n",
    "}\n",
    "problem\n",
    "\n",
    "param_values = saltelli.sample(problem, distinct_samples)\n",
    "print(len(bounds), len(param_values))"
   ]
  },
  {
   "cell_type": "code",
   "execution_count": 32,
   "metadata": {},
   "outputs": [
    {
     "data": {
      "text/plain": [
       "2.111111111111111"
      ]
     },
     "execution_count": 32,
     "metadata": {},
     "output_type": "execute_result"
    }
   ],
   "source": [
    "38/18"
   ]
  },
  {
   "cell_type": "code",
   "execution_count": null,
   "metadata": {},
   "outputs": [],
   "source": []
  }
 ],
 "metadata": {
  "celltoolbar": "Create Assignment",
  "kernelspec": {
   "display_name": "Python 3",
   "language": "python",
   "name": "python3"
  },
  "language_info": {
   "codemirror_mode": {
    "name": "ipython",
    "version": 3
   },
   "file_extension": ".py",
   "mimetype": "text/x-python",
   "name": "python",
   "nbconvert_exporter": "python",
   "pygments_lexer": "ipython3",
   "version": "3.6.5"
  }
 },
 "nbformat": 4,
 "nbformat_minor": 2
}
