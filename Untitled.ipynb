{
 "cells": [
  {
   "cell_type": "code",
   "execution_count": null,
   "metadata": {},
   "outputs": [],
   "source": [
    "#Gamma and density parameters set as given in this Liu 2014\n",
    "def desired_speed(self, gamma=1.913, max_density=5.4, density_in_view_range):\n",
    "    #Parameters: Normal speed, \n",
    "    return speed*(1 - np.exp(-gamma((1/density_in_view_range)-(1/max_density))))\n",
    "\n",
    "def new_pos(self, pos, desired_velocity, theta_chosen):\n",
    "    new_pos = (desired_veloctiy(agent)*np.cos(theta_chosen), desired_velocity*np.sin(theta_chosen))\n",
    "    move_agent(agent, new_pos)\n",
    "\n",
    "    \n",
    "#Calculating Utility parameters \n",
    "\n",
    "#Efficiency of target approach\n",
    "def Ek(self, direction):\n",
    "    #Distance of proposed new position to target\n",
    "    proposed_dist = \"\"\"max dist in this direction, considering objects and desired speed\"\"\"\n",
    "    Ek = 1 - (proposed_dist - vision - speed*dt)/2*(speed*dt)\n",
    "    return Ek\n",
    "\n",
    "#Interaction between pedestrians and obstacles    \n",
    "def Ok(self, dist_nearest_object, vision_length):\n",
    "    #nearest object: min of jordans cone search list?\n",
    "    Ok = distance_to_obj/R_vision_range\n",
    "    return Ok\n",
    "\n",
    "\n",
    "#Keep distance from other pedestrians    \n",
    "def Pk(self, d_nearest_pedestrian, vision_length):\n",
    "    return Pk = distance_to_obj/R_vision_range\n",
    "\n",
    "#Avoid future collisions with other pedestrians\n",
    "def Ak(self, proposed_direction, nearest_agent_vector):\n",
    "    #Movement vector of nearest agent\n",
    "    rel_angle_agents = get_heading(proposed_direction, nearest_agent_vector)\n",
    "    return Ak = 1 - abs()\n",
    "    \n",
    "    \n",
    "    1 - abs(rel_angle)/np.pi\n",
    "    \n",
    "#Inertia \n",
    "def Ik(self, proposed_direction, current_direction):\n",
    "    rel_angle_proposed_current = get_heading(proposed_direction, current_direction)\n",
    "    return Ik = abs(rel_angle_proposed_current)/(theta/2)\n",
    "    \n",
    "Ek = 1 - (Dk_target - self.R_vision_range - Rk_step)/(2*Rk_step)\n",
    "Ok = distance_to_obj/R_vision_range\n",
    "Pk = distance_to_ped/R_vision_range\n",
    "Ak = None\n",
    "Ik = None"
   ]
  },
  {
   "cell_type": "code",
   "execution_count": 4,
   "metadata": {},
   "outputs": [
    {
     "data": {
      "text/plain": [
       "0.45241673175705654"
      ]
     },
     "execution_count": 4,
     "metadata": {},
     "output_type": "execute_result"
    }
   ],
   "source": [
    "import numpy as np\n",
    "speed_free = 1\n",
    "density_in_view_range = 2\n",
    "def desired_speed(density_in_view_range, gamma=1.913, max_density=5.4):\n",
    "    #Parameters: Normal speed, \n",
    "    return speed_free * (1 - np.exp(-gamma * ((1/density_in_view_range)-(1/max_density))))\n",
    "\n",
    "desired_speed(density_in_view_range, gamma=1.913, max_density=5.4)\n"
   ]
  },
  {
   "cell_type": "code",
   "execution_count": null,
   "metadata": {},
   "outputs": [],
   "source": [
    "import numpy as np\n",
    "\n",
    "#180 degrees\n",
    "cone_area = (np.pi*(3**2))/2\n",
    "\n",
    "#170 degrees\n",
    "cone_area_170 = cone_area - (1/18)*cone_area\n",
    "\n",
    "print(cone_area, cone_area_170)\n",
    "\n",
    "#agent area\n",
    "agent_area = np.pi*(0.4**2)\n",
    "\n",
    "print(agent_area/cone_area)\n",
    "\n",
    "cone_density = num_agents_in_cone*agent_area/cone_area\n",
    "\n",
    "\n",
    "\n",
    "def desired_speed(self, gamma=1.913, max_density=5.4, cone_density):\n",
    "    #Parameters: Normal speed\n",
    "    #cone_area_180 = 14.1371\n",
    "    #cone_area_170 = 13.3517\n",
    "    #agent_area: pi*(0.4**2) = 0.5027\n",
    "    if vision_angle == 170:\n",
    "        # dens = agent_area/cone_area\n",
    "        dens = agent_area/cone_area = 0.0376\n",
    "    cone_density = n_agents_in_cone * dens\n",
    "    return speed*(1 - np.exp(-gamma((1/cone_density)-(1/max_density))))"
   ]
  }
 ],
 "metadata": {
  "kernelspec": {
   "display_name": "Python 3",
   "language": "python",
   "name": "python3"
  },
  "language_info": {
   "codemirror_mode": {
    "name": "ipython",
    "version": 3
   },
   "file_extension": ".py",
   "mimetype": "text/x-python",
   "name": "python",
   "nbconvert_exporter": "python",
   "pygments_lexer": "ipython3",
   "version": "3.6.5"
  }
 },
 "nbformat": 4,
 "nbformat_minor": 2
}
